{
 "cells": [
  {
   "cell_type": "code",
   "execution_count": 13,
   "id": "e99800e8",
   "metadata": {},
   "outputs": [],
   "source": [
    "import numpy as np\n",
    "import pandas as pd\n",
    "import tensorflow as tf\n",
    "import fasttext\n",
    "import keras\n",
    "\n",
    "from underthesea import word_tokenize\n",
    "from gensim.utils import simple_preprocess\n",
    "\n",
    "from tensorflow.keras.preprocessing import sequence\n",
    "from tensorflow.keras.models import Sequential, load_model\n",
    "from tensorflow.keras import layers, Model\n",
    "\n",
    "from tensorflow.keras.layers import Dense, Dropout, Embedding, LSTM, Bidirectional,Conv1D,GRU,SpatialDropout1D,Concatenate,Input,Flatten,GlobalMaxPooling1D,Reshape\n",
    "from tensorflow.keras.callbacks import ReduceLROnPlateau, EarlyStopping\n",
    "from tensorflow.keras.layers import MaxPooling1D,AveragePooling1D, GlobalAveragePooling1D\n"
   ]
  },
  {
   "cell_type": "code",
   "execution_count": 234,
   "id": "8de47d67",
   "metadata": {},
   "outputs": [],
   "source": [
    "df=pd.read_csv('data_exam.csv')"
   ]
  },
  {
   "cell_type": "code",
   "execution_count": 250,
   "id": "6c63ebce",
   "metadata": {},
   "outputs": [
    {
     "data": {
      "text/plain": [
       "Index(['text', 'class'], dtype='object')"
      ]
     },
     "execution_count": 250,
     "metadata": {},
     "output_type": "execute_result"
    }
   ],
   "source": [
    "df.columns"
   ]
  },
  {
   "cell_type": "code",
   "execution_count": 251,
   "id": "533ad6ed",
   "metadata": {},
   "outputs": [],
   "source": [
    "df2 = pd.read_csv('final.csv',sep=';')\n",
    "df2.rename(columns = {'review':'text', 'label':'class'}, inplace = True)"
   ]
  },
  {
   "cell_type": "markdown",
   "id": "6b244c66",
   "metadata": {},
   "source": [
    "restaurant#general, \n",
    "restaurant#price,\n",
    "restaurant#miscellaneous,\n",
    "food#quality,\n",
    "food#stype_option,\n",
    "food#price,\n",
    "drinks#quality,\n",
    "drinks#stype_option,\n",
    "drinks#price,\n",
    "service#general,\n",
    "embience#general,\n",
    "location#general,\n"
   ]
  },
  {
   "cell_type": "code",
   "execution_count": 45,
   "id": "0ebdc0da",
   "metadata": {},
   "outputs": [],
   "source": [
    "label_aspect = {'RESTAURANT#GENERAL':0,'RESTAURANT#PRICE':1,'RESTAURANT#MISCELLANEOUS':2,'FOOD#QUALITY':3,\\\n",
    "               'FOOD#PRICE':4,'FOOD#STYLE&OPTIONS':5,'DRINK#QUALITY':6,'DRINK#PRICE':7,'DRINK#STYLE&OPTIONS':8,\\\n",
    "                'SERVICE#GENERAL':9,'AMBIENCE#GENERAL':10,'LOCATION#GENERAL':11}"
   ]
  },
  {
   "cell_type": "code",
   "execution_count": 46,
   "id": "5a3d92c3",
   "metadata": {},
   "outputs": [],
   "source": [
    "label_aspect_rev =  {v: k for k, v in label_aspect.items()}"
   ]
  },
  {
   "cell_type": "code",
   "execution_count": 69,
   "id": "2e591829",
   "metadata": {},
   "outputs": [],
   "source": [
    "# label_dict = {'{RESTAURANT#GENERAL#NEG}':0,\n",
    "#               '{RESTAURANT#GENERAL#NEU}':1,\n",
    "#               '{RESTAURANT#GENERAL#POS}':2,\n",
    "              \n",
    "#               '{RESTAURANT#PRICE#NEG}':3,\n",
    "#               '{RESTAURANT#PRICE#NEU}':4,\n",
    "#               '{RESTAURANT#PRICE#POS}':5,\n",
    "              \n",
    "#               '{RESTAURANT#MISCELLANEOUS#NEG}':6,\n",
    "#               '{RESTAURANT#MISCELLANEOUS#NEU}':7,\n",
    "#               '{RESTAURANT#MISCELLANEOUS#POS}':8, \n",
    "              \n",
    "#               '{FOOD#QUALITY#NEG}':9,\n",
    "#               '{FOOD#QUALITY#NEU}':10,\n",
    "#               '{FOOD#QUALITY#POS}':11,\n",
    "              \n",
    "#               '{FOOD#PRICE#NEG}':12,\n",
    "#               '{FOOD#PRICE#NEU}':13,\n",
    "#               '{FOOD#PRICE#POS}':14,\n",
    "              \n",
    "#               '{FOOD#STYLE&OPTIONS#NEG}':15,\n",
    "#               '{FOOD#STYLE&OPTIONS#NEU}':16,\n",
    "#               '{FOOD#STYLE&OPTIONS#POS}':17,\n",
    "              \n",
    "#               '{DRINK#QUALITY#NEG}':18,\n",
    "#               '{DRINK#QUALITY#NEU}':19,\n",
    "#               '{DRINK#QUALITY#POS}':20,\n",
    "              \n",
    "#               '{DRINK#PRICE#NEG}':21,\n",
    "#               '{DRINK#PRICE#NEU}':22,\n",
    "#               '{DRINK#PRICE#POS}':23,   \n",
    "              \n",
    "#               '{DRINK#STYLE&OPTIONS#NEG}':24,\n",
    "#               '{DRINK#STYLE&OPTIONS#NEU}':25,\n",
    "#               '{DRINK#STYLE&OPTIONS#POS}':26,\n",
    "              \n",
    "#               '{SERVICE#GENERAL#NEG}':27,\n",
    "#               '{SERVICE#GENERAL#NEU}':28,\n",
    "#               '{SERVICE#GENERAL#POS}':29,\n",
    "              \n",
    "#               '{AMBIENCE#GENERAL#NEG}':30,\n",
    "#               '{AMBIENCE#GENERAL#NEU}':31,\n",
    "#               '{AMBIENCE#GENERAL#POS}':32,\n",
    "              \n",
    "#               '{LOCATION#GENERAL#NEG}':33,\n",
    "#               '{LOCATION#GENERAL#NEU}':34,\n",
    "#               '{LOCATION#GENERAL#POS}':35,}"
   ]
  },
  {
   "cell_type": "code",
   "execution_count": 44,
   "id": "ab0ca205",
   "metadata": {},
   "outputs": [],
   "source": [
    "label_polarity = {'NONE':0,'NEG':1,'NEU':2,'POS':3}\n",
    "\n",
    "label_polarity_rev = {v: k for k, v in label_polarity.items()}"
   ]
  },
  {
   "cell_type": "code",
   "execution_count": 133,
   "id": "192ad10b",
   "metadata": {},
   "outputs": [],
   "source": [
    "label_list = df['class'].to_list()"
   ]
  },
  {
   "cell_type": "code",
   "execution_count": 134,
   "id": "db509726",
   "metadata": {},
   "outputs": [],
   "source": [
    "#preprocessing\n",
    "# i = 0\n",
    "# for labels in label_list:\n",
    "#     if isinstance(labels,float) == True:\n",
    "#         print(i)\n",
    "#     i = i +1"
   ]
  },
  {
   "cell_type": "code",
   "execution_count": 135,
   "id": "40bac268",
   "metadata": {},
   "outputs": [],
   "source": [
    "#preprocessing\n",
    "# i = 0\n",
    "# for labels in label_list:\n",
    "#     for label in labels.split(';'):\n",
    "#         if label not in label_dict.keys():\n",
    "#             print(i)\n",
    "#             print(label)\n",
    "        \n",
    "#     i = i + 1"
   ]
  },
  {
   "cell_type": "markdown",
   "id": "847b7c97",
   "metadata": {},
   "source": [
    "# output normalization"
   ]
  },
  {
   "cell_type": "code",
   "execution_count": 213,
   "id": "044ef2db",
   "metadata": {},
   "outputs": [],
   "source": [
    "label_aspect_list_encode = []\n",
    "label_polarity_list_encode = []\n",
    "\n",
    "for labels in label_list:\n",
    "    list_temp_aspect = []\n",
    "    list_temp_polarity = []\n",
    "    for label in labels.split(';'):\n",
    "        aspect = label.split('#',2)[0][1:] + '#' +  label.split('#',2)[1]\n",
    "        polarity = label.split('#',2)[-1][0:-1]\n",
    "        list_temp_aspect.append(label_aspect[aspect])\n",
    "        list_temp_polarity.append(label_polarity[polarity])\n",
    "    label_aspect_list_encode.append(list_temp_aspect)\n",
    "    label_polarity_list_encode.append(list_temp_polarity)"
   ]
  },
  {
   "cell_type": "code",
   "execution_count": 214,
   "id": "fcb75898",
   "metadata": {},
   "outputs": [],
   "source": [
    "i= 0\n",
    "label_list_as_por =[]\n",
    "for arr in label_aspect_list_encode:\n",
    "    dic_ = dict(zip(arr,label_polarity_list_encode[i]))\n",
    "    label_list_as_por.append(dic_)\n",
    "    i =i +1"
   ]
  },
  {
   "cell_type": "code",
   "execution_count": 215,
   "id": "6d98714b",
   "metadata": {},
   "outputs": [],
   "source": [
    "polarity_oh = {0:[1,0,0,0],1:[0,1,0,0],2:[0,0,1,0],3:[0,0,0,1]}"
   ]
  },
  {
   "cell_type": "code",
   "execution_count": 216,
   "id": "e31d8014",
   "metadata": {},
   "outputs": [],
   "source": [
    "label_list_aspect_one_hot = list()\n",
    "label_list_polarity_one_hot = list()\n",
    "i= 0 \n",
    "for labels_aspect in label_aspect_list_encode:\n",
    "    label_oh_aspect = [0 for _ in range(len(label_aspect))]\n",
    "    label_oh_polarity = [0 for _ in range(len(label_aspect))]\n",
    "    for value_aspect in labels_aspect:\n",
    "        label_oh_aspect[value_aspect] = 1\n",
    "        label_oh_polarity[value_aspect] = label_list_as_por[i][value_aspect]\n",
    "    i = i +1\n",
    "    label_list_aspect_one_hot.append(label_oh_aspect)\n",
    "    label_list_polarity_one_hot.append(label_oh_polarity)"
   ]
  },
  {
   "cell_type": "code",
   "execution_count": 221,
   "id": "cb79cbb9",
   "metadata": {},
   "outputs": [],
   "source": [
    "from numpy import loadtxt\n",
    "label_list_aspect_one_hot_final = loadtxt('label_list_aspect_one_hot_final.txt', delimiter= ',',dtype = np.int32) \n",
    "label_list_polarity_one_hot_final = loadtxt('label_list_polarity_one_hot_final.txt', delimiter= ',',dtype = np.int32) "
   ]
  },
  {
   "cell_type": "code",
   "execution_count": 222,
   "id": "44696b9f",
   "metadata": {},
   "outputs": [],
   "source": [
    "label_list_aspect_one_hot_final = label_list_aspect_one_hot_final.tolist()\n",
    "label_list_polarity_one_hot_final = label_list_polarity_one_hot_final.tolist()"
   ]
  },
  {
   "cell_type": "code",
   "execution_count": 223,
   "id": "19840a6f",
   "metadata": {},
   "outputs": [],
   "source": [
    "# for i in label_list_aspect_one_hot_final:\n",
    "#     label_list_aspect_one_hot.append(i)\n",
    "# for j in label_list_polarity_one_hot_final:\n",
    "#     label_list_polarity_one_hot.append(j)"
   ]
  },
  {
   "cell_type": "code",
   "execution_count": 224,
   "id": "cbc00f64",
   "metadata": {},
   "outputs": [],
   "source": [
    "for i in range(len(label_list_polarity_one_hot)):\n",
    "    for j in range(len(label_list_polarity_one_hot[i])):\n",
    "        label_list_polarity_one_hot[i][j] = polarity_oh[label_list_polarity_one_hot[i][j]]\n",
    "            "
   ]
  },
  {
   "cell_type": "code",
   "execution_count": 225,
   "id": "04791db2",
   "metadata": {},
   "outputs": [],
   "source": [
    "y_aspect = np.array(label_list_aspect_one_hot)\n",
    "y_polarity = np.array(label_list_polarity_one_hot)"
   ]
  },
  {
   "cell_type": "code",
   "execution_count": 226,
   "id": "df1816ec",
   "metadata": {},
   "outputs": [
    {
     "data": {
      "text/plain": [
       "(2495, 2)"
      ]
     },
     "execution_count": 226,
     "metadata": {},
     "output_type": "execute_result"
    }
   ],
   "source": [
    "df.shape"
   ]
  },
  {
   "cell_type": "code",
   "execution_count": 394,
   "id": "a1f019d8",
   "metadata": {},
   "outputs": [
    {
     "data": {
      "text/plain": [
       "array([0, 0, 0, 1, 0, 1, 0, 0, 0, 0, 0, 0])"
      ]
     },
     "execution_count": 394,
     "metadata": {},
     "output_type": "execute_result"
    }
   ],
   "source": [
    "y_aspect[2495]"
   ]
  },
  {
   "cell_type": "code",
   "execution_count": 384,
   "id": "402818e2",
   "metadata": {},
   "outputs": [],
   "source": [
    "from numpy import savetxt\n",
    "savetxt('y_aspect.txt',y_aspect,delimiter= ',',fmt='%d')\n",
    "# savetxt('label_list_polarity_one_hot_final.txt',y_polarity,delimiter= ',',fmt='%d')"
   ]
  },
  {
   "cell_type": "code",
   "execution_count": 388,
   "id": "3b59c46c",
   "metadata": {},
   "outputs": [
    {
     "data": {
      "text/plain": [
       "array([[1, 0, 0, 0],\n",
       "       [1, 0, 0, 0],\n",
       "       [0, 0, 0, 1],\n",
       "       [0, 0, 0, 1],\n",
       "       [1, 0, 0, 0],\n",
       "       [0, 0, 0, 1],\n",
       "       [1, 0, 0, 0],\n",
       "       [1, 0, 0, 0],\n",
       "       [1, 0, 0, 0],\n",
       "       [1, 0, 0, 0],\n",
       "       [0, 0, 1, 0],\n",
       "       [1, 0, 0, 0]])"
      ]
     },
     "execution_count": 388,
     "metadata": {},
     "output_type": "execute_result"
    }
   ],
   "source": [
    "y_polarity[0]"
   ]
  },
  {
   "cell_type": "code",
   "execution_count": 389,
   "id": "046bee07",
   "metadata": {},
   "outputs": [],
   "source": [
    "y_polarity_reshape  =  y_polarity.reshape(y_polarity.shape[0],-1)"
   ]
  },
  {
   "cell_type": "code",
   "execution_count": 392,
   "id": "aebd5b14",
   "metadata": {},
   "outputs": [],
   "source": [
    "savetxt('y_polarity.txt',y_polarity_reshape,delimiter= ',',fmt='%d')"
   ]
  },
  {
   "cell_type": "code",
   "execution_count": 396,
   "id": "3e63c6b4",
   "metadata": {},
   "outputs": [],
   "source": [
    "loaded_arr = loadtxt(\"y_polarity.txt\",dtype = np.int32,delimiter=',')"
   ]
  },
  {
   "cell_type": "code",
   "execution_count": 402,
   "id": "862fe687",
   "metadata": {},
   "outputs": [],
   "source": [
    "y_pol_original = loaded_arr.reshape(\n",
    "    loaded_arr.shape[0], loaded_arr.shape[1] // y_polarity.shape[2], y_polarity.shape[2])"
   ]
  },
  {
   "cell_type": "code",
   "execution_count": 430,
   "id": "315624f7",
   "metadata": {},
   "outputs": [
    {
     "data": {
      "text/plain": [
       "4"
      ]
     },
     "execution_count": 430,
     "metadata": {},
     "output_type": "execute_result"
    }
   ],
   "source": [
    "y_polarity.shape[2]"
   ]
  },
  {
   "cell_type": "markdown",
   "id": "c5d58933",
   "metadata": {},
   "source": [
    "## Preprocessing text"
   ]
  },
  {
   "cell_type": "code",
   "execution_count": 367,
   "id": "37aa8def",
   "metadata": {},
   "outputs": [],
   "source": [
    "df_3 = pd.concat([df,df2])"
   ]
  },
  {
   "cell_type": "code",
   "execution_count": 368,
   "id": "c5e09745",
   "metadata": {},
   "outputs": [
    {
     "data": {
      "text/plain": [
       "text      Ảnh chụp từ hôm qua đi chơi với gia đình và n...\n",
       "class    {FOOD#STYLE&OPTIONS, neutral}, {FOOD#QUALITY, ...\n",
       "Name: 0, dtype: object"
      ]
     },
     "execution_count": 368,
     "metadata": {},
     "output_type": "execute_result"
    }
   ],
   "source": [
    "df_3.iloc[2495]"
   ]
  },
  {
   "cell_type": "code",
   "execution_count": 369,
   "id": "3bbbdb78",
   "metadata": {},
   "outputs": [],
   "source": [
    "import string\n",
    "def clean_text(text):\n",
    "    text = text.translate(string.punctuation)\n",
    "    text = text.lower().split()\n",
    "    text = \" \".join(text)\n",
    "    return text"
   ]
  },
  {
   "cell_type": "code",
   "execution_count": 370,
   "id": "9f646ed1",
   "metadata": {},
   "outputs": [],
   "source": [
    "def remove_number(row):\n",
    "    row=\"\".join(t for t in row if not t.isdigit())\n",
    "    return row"
   ]
  },
  {
   "cell_type": "code",
   "execution_count": 371,
   "id": "16bb099f",
   "metadata": {},
   "outputs": [],
   "source": [
    "def remove_single_character(row):\n",
    "    row=\" \".join(t for t in row.split() if len(t) > 1)\n",
    "    return row"
   ]
  },
  {
   "cell_type": "code",
   "execution_count": 372,
   "id": "f1143e31",
   "metadata": {},
   "outputs": [],
   "source": [
    "df_3['text'] = df_3['text'].map(lambda x: clean_text(x)) "
   ]
  },
  {
   "cell_type": "code",
   "execution_count": 373,
   "id": "e53add17",
   "metadata": {},
   "outputs": [],
   "source": [
    "df_3['text'] = df_3['text'].map(lambda x : remove_number(x))\n",
    "df_3['text'] = df_3['text'].map(lambda x : remove_single_character(x))"
   ]
  },
  {
   "cell_type": "code",
   "execution_count": 35,
   "id": "28d7abb2",
   "metadata": {},
   "outputs": [],
   "source": [
    "original_stopwords = ['bbq','lotte','kfc','foody']\n",
    "def creat_stopwords(path):\n",
    "    with open (path, encoding = 'utf-8') as words:\n",
    "        return [w[:len(w)-1] for w in words] + original_stopwords\n",
    "stopwords  = creat_stopwords('vietnamese-stopwords.txt')"
   ]
  },
  {
   "cell_type": "code",
   "execution_count": 36,
   "id": "4e86cdb1",
   "metadata": {},
   "outputs": [],
   "source": [
    "def word_processing(sentence):\n",
    "    sentence = \" \".join(simple_preprocess(sentence))\n",
    "    sentence = [word for word in word_tokenize(sentence.lower(),format='text').split() if word not in stopwords]\n",
    "    return [word for word in sentence if word != \"\"]"
   ]
  },
  {
   "cell_type": "code",
   "execution_count": 376,
   "id": "04eebab6",
   "metadata": {},
   "outputs": [],
   "source": [
    "input_sentences =  [word_processing(str(sentence)) for sentence in df_3['text'].values.tolist()]"
   ]
  },
  {
   "cell_type": "code",
   "execution_count": 377,
   "id": "849e20bc",
   "metadata": {},
   "outputs": [
    {
     "data": {
      "text/plain": [
       "array([1, 1, 0, 1, 1, 1, 0, 0, 0, 1, 1, 0])"
      ]
     },
     "execution_count": 377,
     "metadata": {},
     "output_type": "execute_result"
    }
   ],
   "source": [
    "y_aspect[2496]"
   ]
  },
  {
   "cell_type": "code",
   "execution_count": 378,
   "id": "60b634bf",
   "metadata": {},
   "outputs": [
    {
     "data": {
      "text/plain": [
       "['hương_vị',\n",
       " 'thơm',\n",
       " 'ngon_ăn',\n",
       " 'cay_cay',\n",
       " 'nêm',\n",
       " 'nếm',\n",
       " 'vừa_miệng',\n",
       " 'menu',\n",
       " 'quán',\n",
       " 'món',\n",
       " 'lựa_chọn',\n",
       " 'quán',\n",
       " 'rộng_rãi',\n",
       " 'view',\n",
       " 'khá',\n",
       " 'đẹp',\n",
       " 'và',\n",
       " 'thoáng',\n",
       " 'lắm',\n",
       " 'quán',\n",
       " 'đông',\n",
       " 'nhân_viên',\n",
       " 'phục_vụ',\n",
       " 'không',\n",
       " 'nhanh',\n",
       " 'lắm',\n",
       " 'thịt',\n",
       " 'heo',\n",
       " 'rừng',\n",
       " 'giá',\n",
       " 'kì',\n",
       " 'trung_bình',\n",
       " 'hai',\n",
       " 'đi',\n",
       " 'chi',\n",
       " 'ổn']"
      ]
     },
     "execution_count": 378,
     "metadata": {},
     "output_type": "execute_result"
    }
   ],
   "source": [
    "input_sentences[2496]"
   ]
  },
  {
   "cell_type": "markdown",
   "id": "e99f4bdd",
   "metadata": {},
   "source": [
    "## Create vocab"
   ]
  },
  {
   "cell_type": "code",
   "execution_count": 379,
   "id": "d8d88a61",
   "metadata": {},
   "outputs": [
    {
     "data": {
      "text/plain": [
       "382"
      ]
     },
     "execution_count": 379,
     "metadata": {},
     "output_type": "execute_result"
    }
   ],
   "source": [
    "\n",
    "threshold = 4# you can change this value according to your need\n",
    "word_counts = {}\n",
    "for cap in input_sentences:\n",
    "\tfor word in cap:\n",
    "\t\tword_counts[word] = word_counts.get(word, 0) + 1\n",
    "\n",
    "vocab = [word for word in word_counts if word_counts[word] >= threshold]\n",
    "\n",
    "# word mapping to integers\n",
    "ixtoword = {}\n",
    "wordtoix = {}\n",
    "\n",
    "ix = 0\n",
    "for word in vocab:\n",
    "\twordtoix[word] = ix\n",
    "\tixtoword[ix] = word\n",
    "\tix += 1\n",
    "\t\n",
    "# find the maximum length of a description in a dataset\n",
    "max_length = max(len(comment) for comment in input_sentences)\n",
    "max_length\n"
   ]
  },
  {
   "cell_type": "code",
   "execution_count": 380,
   "id": "dff9f947",
   "metadata": {},
   "outputs": [
    {
     "data": {
      "text/plain": [
       "157"
      ]
     },
     "execution_count": 380,
     "metadata": {},
     "output_type": "execute_result"
    }
   ],
   "source": [
    "wordtoix['lâu']"
   ]
  },
  {
   "cell_type": "code",
   "execution_count": 414,
   "id": "49be90b8",
   "metadata": {},
   "outputs": [
    {
     "data": {
      "text/plain": [
       "4040"
      ]
     },
     "execution_count": 414,
     "metadata": {},
     "output_type": "execute_result"
    }
   ],
   "source": [
    "len(wordtoix)"
   ]
  },
  {
   "cell_type": "code",
   "execution_count": 406,
   "id": "06b0b2e6",
   "metadata": {},
   "outputs": [],
   "source": [
    "import pickle\n",
    "a_file = open(\"wordtoix_ABSA.pkl\", \"wb\")\n",
    "pickle.dump(wordtoix, a_file)\n",
    "a_file.close()"
   ]
  },
  {
   "cell_type": "code",
   "execution_count": 421,
   "id": "451afe04",
   "metadata": {},
   "outputs": [],
   "source": [
    "import pickle\n",
    "a_file = open(\"ixtoword_ABSA.pkl\", \"wb\")\n",
    "pickle.dump(ixtoword, a_file)\n",
    "a_file.close()"
   ]
  },
  {
   "cell_type": "markdown",
   "id": "bdc7c64f",
   "metadata": {},
   "source": [
    "## Create input"
   ]
  },
  {
   "cell_type": "code",
   "execution_count": 424,
   "id": "e3abd988",
   "metadata": {},
   "outputs": [],
   "source": [
    "X=[[wordtoix[word] for word in sentence if word in wordtoix] for sentence in input_sentences ]"
   ]
  },
  {
   "cell_type": "code",
   "execution_count": 425,
   "id": "5c8a4443",
   "metadata": {},
   "outputs": [],
   "source": [
    "X=sequence.pad_sequences(X,max_length)"
   ]
  },
  {
   "cell_type": "code",
   "execution_count": 412,
   "id": "e086ff44",
   "metadata": {},
   "outputs": [],
   "source": [
    "savetxt('X_absa.txt',X,delimiter=',',fmt ='%d',)"
   ]
  },
  {
   "cell_type": "markdown",
   "id": "098b6ba7",
   "metadata": {},
   "source": [
    "## Embedding matrix"
   ]
  },
  {
   "cell_type": "code",
   "execution_count": 415,
   "id": "699b62bb",
   "metadata": {},
   "outputs": [
    {
     "name": "stderr",
     "output_type": "stream",
     "text": [
      "Warning : `load_model` does not return WordVectorModel or SupervisedModel any more, but a `FastText` object which is very similar.\n"
     ]
    }
   ],
   "source": [
    "fasttext_model='C:/Users/Administrator/Documents/dataTiki/cc.vi.300.bin'\n",
    "embedding_index=fasttext.load_model(fasttext_model)"
   ]
  },
  {
   "cell_type": "code",
   "execution_count": 416,
   "id": "443e1706",
   "metadata": {},
   "outputs": [],
   "source": [
    "MAX_NB_WORDS=10000\n",
    "word_not_found=[]\n",
    "embedding_dim=300\n",
    "nb_word=min(MAX_NB_WORDS,len(wordtoix))"
   ]
  },
  {
   "cell_type": "code",
   "execution_count": 417,
   "id": "b212cfeb",
   "metadata": {},
   "outputs": [],
   "source": [
    "embedding_matrix=np.zeros((nb_word,embedding_dim))\n",
    "for word,i in wordtoix.items():\n",
    "    if i >=nb_word:\n",
    "        continue\n",
    "    embedding_vector=embedding_index[word]\n",
    "    if(embedding_vector is not None) and len(embedding_vector)>0:\n",
    "        embedding_matrix[i]=embedding_vector\n",
    "    else:\n",
    "        word_not_found.append(word)"
   ]
  },
  {
   "cell_type": "code",
   "execution_count": 418,
   "id": "2f21a8dc",
   "metadata": {},
   "outputs": [],
   "source": [
    "from numpy import savetxt\n",
    "savetxt('embedding_matrix_absa.csv',embedding_matrix,delimiter= ',')"
   ]
  },
  {
   "cell_type": "markdown",
   "id": "d2b58781",
   "metadata": {},
   "source": [
    "# Load data"
   ]
  },
  {
   "cell_type": "code",
   "execution_count": 95,
   "id": "9b628274",
   "metadata": {},
   "outputs": [],
   "source": [
    "from numpy import loadtxt\n",
    "X = loadtxt('X_absa.txt',delimiter=',',dtype = np.int32)\n",
    "y_aspect = loadtxt('y_aspect.txt',delimiter=',',dtype = np.int32)\n",
    "loaded_arr = loadtxt(\"y_polarity.txt\",dtype = np.int32,delimiter=',')\n",
    "y_pol = loaded_arr.reshape(\n",
    "    loaded_arr.shape[0], loaded_arr.shape[1] //4, 4)\n",
    "embedding_matrix = loadtxt('embedding_matrix_absa.csv',delimiter=',',dtype = None)\n",
    "import pickle\n",
    "a_file = open('wordtoix_ABSA.pkl','rb')\n",
    "wordtoix = pickle.load(a_file)\n",
    "\n",
    "a_file = open('ixtoword_ABSA.pkl','rb')\n",
    "ixtoword = pickle.load(a_file)"
   ]
  },
  {
   "cell_type": "code",
   "execution_count": 96,
   "id": "52319f4b",
   "metadata": {},
   "outputs": [],
   "source": [
    "max_length  = 382\n",
    "vocab_size =len(wordtoix)\n",
    "embedding_dim = 300 "
   ]
  },
  {
   "cell_type": "code",
   "execution_count": 99,
   "id": "dd6acb05",
   "metadata": {},
   "outputs": [
    {
     "name": "stdout",
     "output_type": "stream",
     "text": [
      "xe\n",
      "xe\n",
      "xe\n",
      "xe\n",
      "xe\n",
      "xe\n",
      "xe\n",
      "xe\n",
      "xe\n",
      "xe\n",
      "xe\n",
      "xe\n",
      "xe\n",
      "xe\n",
      "xe\n",
      "xe\n",
      "xe\n",
      "xe\n",
      "xe\n",
      "xe\n",
      "xe\n",
      "xe\n",
      "xe\n",
      "xe\n",
      "xe\n",
      "xe\n",
      "xe\n",
      "xe\n",
      "xe\n",
      "xe\n",
      "xe\n",
      "xe\n",
      "xe\n",
      "xe\n",
      "xe\n",
      "xe\n",
      "xe\n",
      "xe\n",
      "xe\n",
      "xe\n",
      "xe\n",
      "xe\n",
      "xe\n",
      "xe\n",
      "xe\n",
      "xe\n",
      "xe\n",
      "xe\n",
      "xe\n",
      "xe\n",
      "xe\n",
      "xe\n",
      "xe\n",
      "xe\n",
      "xe\n",
      "xe\n",
      "xe\n",
      "xe\n",
      "xe\n",
      "xe\n",
      "xe\n",
      "xe\n",
      "xe\n",
      "xe\n",
      "xe\n",
      "xe\n",
      "xe\n",
      "xe\n",
      "xe\n",
      "xe\n",
      "xe\n",
      "xe\n",
      "xe\n",
      "xe\n",
      "xe\n",
      "xe\n",
      "xe\n",
      "xe\n",
      "xe\n",
      "xe\n",
      "xe\n",
      "xe\n",
      "xe\n",
      "xe\n",
      "xe\n",
      "xe\n",
      "xe\n",
      "xe\n",
      "xe\n",
      "xe\n",
      "xe\n",
      "xe\n",
      "xe\n",
      "xe\n",
      "xe\n",
      "xe\n",
      "xe\n",
      "xe\n",
      "xe\n",
      "xe\n",
      "xe\n",
      "xe\n",
      "xe\n",
      "xe\n",
      "xe\n",
      "xe\n",
      "xe\n",
      "xe\n",
      "xe\n",
      "xe\n",
      "xe\n",
      "xe\n",
      "xe\n",
      "xe\n",
      "xe\n",
      "xe\n",
      "xe\n",
      "xe\n",
      "xe\n",
      "xe\n",
      "xe\n",
      "xe\n",
      "xe\n",
      "xe\n",
      "xe\n",
      "xe\n",
      "xe\n",
      "xe\n",
      "xe\n",
      "xe\n",
      "xe\n",
      "xe\n",
      "xe\n",
      "xe\n",
      "xe\n",
      "xe\n",
      "xe\n",
      "xe\n",
      "xe\n",
      "xe\n",
      "xe\n",
      "xe\n",
      "xe\n",
      "xe\n",
      "xe\n",
      "xe\n",
      "xe\n",
      "xe\n",
      "xe\n",
      "xe\n",
      "xe\n",
      "xe\n",
      "xe\n",
      "xe\n",
      "xe\n",
      "xe\n",
      "xe\n",
      "xe\n",
      "xe\n",
      "xe\n",
      "xe\n",
      "xe\n",
      "xe\n",
      "xe\n",
      "xe\n",
      "xe\n",
      "xe\n",
      "xe\n",
      "xe\n",
      "xe\n",
      "xe\n",
      "xe\n",
      "xe\n",
      "xe\n",
      "xe\n",
      "xe\n",
      "xe\n",
      "xe\n",
      "xe\n",
      "xe\n",
      "xe\n",
      "xe\n",
      "xe\n",
      "xe\n",
      "xe\n",
      "xe\n",
      "xe\n",
      "xe\n",
      "xe\n",
      "xe\n",
      "xe\n",
      "xe\n",
      "xe\n",
      "xe\n",
      "xe\n",
      "xe\n",
      "xe\n",
      "xe\n",
      "xe\n",
      "xe\n",
      "xe\n",
      "xe\n",
      "xe\n",
      "xe\n",
      "xe\n",
      "xe\n",
      "xe\n",
      "xe\n",
      "xe\n",
      "xe\n",
      "xe\n",
      "xe\n",
      "xe\n",
      "xe\n",
      "xe\n",
      "xe\n",
      "xe\n",
      "xe\n",
      "xe\n",
      "xe\n",
      "xe\n",
      "xe\n",
      "xe\n",
      "xe\n",
      "xe\n",
      "xe\n",
      "xe\n",
      "xe\n",
      "xe\n",
      "xe\n",
      "xe\n",
      "xe\n",
      "xe\n",
      "xe\n",
      "xe\n",
      "xe\n",
      "xe\n",
      "xe\n",
      "xe\n",
      "xe\n",
      "xe\n",
      "xe\n",
      "xe\n",
      "xe\n",
      "xe\n",
      "xe\n",
      "xe\n",
      "xe\n",
      "xe\n",
      "xe\n",
      "xe\n",
      "xe\n",
      "xe\n",
      "xe\n",
      "xe\n",
      "xe\n",
      "xe\n",
      "xe\n",
      "xe\n",
      "xe\n",
      "xe\n",
      "xe\n",
      "xe\n",
      "xe\n",
      "xe\n",
      "xe\n",
      "xe\n",
      "xe\n",
      "xe\n",
      "xe\n",
      "xe\n",
      "xe\n",
      "xe\n",
      "xe\n",
      "xe\n",
      "xe\n",
      "xe\n",
      "xe\n",
      "xe\n",
      "xe\n",
      "xe\n",
      "xe\n",
      "xe\n",
      "xe\n",
      "xe\n",
      "xe\n",
      "xe\n",
      "xe\n",
      "xe\n",
      "xe\n",
      "xe\n",
      "xe\n",
      "xe\n",
      "xe\n",
      "xe\n",
      "xe\n",
      "xe\n",
      "xe\n",
      "xe\n",
      "xe\n",
      "xe\n",
      "xe\n",
      "xe\n",
      "xe\n",
      "xe\n",
      "xe\n",
      "xe\n",
      "xe\n",
      "xe\n",
      "xe\n",
      "xe\n",
      "xe\n",
      "xe\n",
      "xe\n",
      "xe\n",
      "xe\n",
      "xe\n",
      "xe\n",
      "xe\n",
      "xe\n",
      "xe\n",
      "xe\n",
      "xe\n",
      "xe\n",
      "xe\n",
      "xe\n",
      "xe\n",
      "xe\n",
      "xe\n",
      "xe\n",
      "xe\n",
      "xe\n",
      "xe\n",
      "xe\n",
      "xe\n",
      "xe\n",
      "xe\n",
      "xe\n",
      "xe\n",
      "xe\n",
      "xe\n",
      "xe\n",
      "xe\n",
      "xe\n",
      "xe\n",
      "xe\n",
      "xe\n",
      "xe\n",
      "xe\n",
      "ảnh\n",
      "chụp\n",
      "hôm_qua\n",
      "đi\n",
      "gia_đình\n",
      "và\n",
      "sống\n",
      "sài_gòn\n",
      "hôm_qua\n",
      "đi\n",
      "ăn\n",
      "trưa\n",
      "muộn\n",
      "đói\n",
      "đồ_ăn\n",
      "nhào\n",
      "vô\n",
      "ăn_liền\n",
      "quên\n",
      "chụp\n",
      "gọi\n",
      "nước_mắm\n",
      "chụp\n",
      "món\n",
      "đói\n",
      "không\n",
      "biết\n",
      "đánh_giá\n",
      "đồ\n",
      "ăn\n",
      "kiểu\n",
      "lạ\n",
      "tui\n"
     ]
    }
   ],
   "source": [
    "for i in X[2495]:\n",
    "    print(ixtoword[i])"
   ]
  },
  {
   "cell_type": "markdown",
   "id": "a21fb278",
   "metadata": {},
   "source": [
    "# Model LSTM"
   ]
  },
  {
   "cell_type": "code",
   "execution_count": 72,
   "id": "76895df8",
   "metadata": {},
   "outputs": [],
   "source": [
    "from tensorflow.keras.layers import concatenate"
   ]
  },
  {
   "cell_type": "code",
   "execution_count": 73,
   "id": "f526ea65",
   "metadata": {},
   "outputs": [],
   "source": [
    "from keras.initializers import Constant\n",
    "def define_model(max_length,embedding_dim,embedding_matrix,vocab_size):\n",
    "    inputs = Input(shape=(max_length,))\n",
    "    embedding = Embedding(\n",
    "                vocab_size,\n",
    "                embedding_dim,\n",
    "                embeddings_initializer=Constant(embedding_matrix))(inputs)\n",
    "    embedding = SpatialDropout1D(0.5)(embedding)\n",
    "    lstm = Bidirectional(LSTM(64,return_sequences=True))(embedding)\n",
    "    conv1d = Conv1D(filters=32, kernel_size=3, padding='same')(lstm)\n",
    "    global_avg_pool = GlobalAveragePooling1D()(conv1d)\n",
    "    global_max_pool  = GlobalMaxPooling1D()(conv1d)\n",
    "    concat_layer = Concatenate(axis = -1)([global_avg_pool,global_avg_pool])\n",
    "\n",
    "    aspect_output = layers.Dense(12, activation=\"sigmoid\",name ='output_aspect')(concat_layer)\n",
    "\n",
    "    output_pol1 = Dense(4,activation = 'softmax',)(concat_layer)\n",
    "    output_pol1 = Reshape((-1,4))(output_pol1)\n",
    "\n",
    "    output_pol2 = Dense(4,activation = 'softmax')(concat_layer)\n",
    "    output_pol2 = Reshape((-1,4))(output_pol2)\n",
    "\n",
    "    output_pol3 = Dense(4,activation = 'softmax')(concat_layer)\n",
    "    output_pol3 = Reshape((-1,4))(output_pol3)\n",
    "\n",
    "    output_pol4 = Dense(4,activation = 'softmax')(concat_layer)\n",
    "    output_pol4 = Reshape((-1,4))(output_pol4)\n",
    "\n",
    "    output_pol5 = Dense(4,activation = 'softmax')(concat_layer)\n",
    "    output_pol5 = Reshape((-1,4))(output_pol5)\n",
    "\n",
    "    output_pol6 = Dense(4,activation = 'softmax')(concat_layer)\n",
    "    output_pol6 = Reshape((-1,4))(output_pol6)\n",
    "\n",
    "    output_pol7 = Dense(4,activation = 'softmax')(concat_layer)\n",
    "    output_pol7 = Reshape((-1,4))(output_pol7)\n",
    "\n",
    "    output_pol8 = Dense(4,activation = 'softmax')(concat_layer)\n",
    "    output_pol8 = Reshape((-1,4))(output_pol8)\n",
    "\n",
    "    output_pol9 = Dense(4,activation = 'softmax')(concat_layer)\n",
    "    output_pol9 = Reshape((-1,4))(output_pol9)\n",
    "\n",
    "    output_pol10 = Dense(4,activation = 'softmax')(concat_layer)\n",
    "    output_pol10 = Reshape((-1,4))(output_pol10)\n",
    "\n",
    "    output_pol11 = Dense(4,activation = 'softmax')(concat_layer)\n",
    "    output_pol11 = Reshape((-1,4))(output_pol11)\n",
    "\n",
    "    output_pol12 = Dense(4,activation = 'softmax')(concat_layer)\n",
    "    output_pol12 = Reshape((-1,4))(output_pol12)\n",
    "\n",
    "    output_pol = concatenate([output_pol1,output_pol2,output_pol3,output_pol4,output_pol5,\n",
    "                        output_pol6,output_pol7,output_pol8,output_pol9,output_pol10,output_pol11,output_pol12],name='output_polarity',axis = 1)\n",
    "\n",
    "    model3 = Model(inputs = inputs ,outputs =[aspect_output,output_pol])\n",
    "    return model3"
   ]
  },
  {
   "cell_type": "code",
   "execution_count": 76,
   "id": "59da2ee2",
   "metadata": {},
   "outputs": [],
   "source": [
    "model3 = define_model(max_length,embedding_dim,embedding_matrix,vocab_size)"
   ]
  },
  {
   "cell_type": "code",
   "execution_count": 77,
   "id": "45efb969",
   "metadata": {},
   "outputs": [
    {
     "name": "stdout",
     "output_type": "stream",
     "text": [
      "Model: \"model_5\"\n",
      "__________________________________________________________________________________________________\n",
      " Layer (type)                   Output Shape         Param #     Connected to                     \n",
      "==================================================================================================\n",
      " input_9 (InputLayer)           [(None, 382)]        0           []                               \n",
      "                                                                                                  \n",
      " embedding_11 (Embedding)       (None, 382, 300)     1212000     ['input_9[0][0]']                \n",
      "                                                                                                  \n",
      " spatial_dropout1d_4 (SpatialDr  (None, 382, 300)    0           ['embedding_11[0][0]']           \n",
      " opout1D)                                                                                         \n",
      "                                                                                                  \n",
      " bidirectional_7 (Bidirectional  (None, 382, 128)    186880      ['spatial_dropout1d_4[0][0]']    \n",
      " )                                                                                                \n",
      "                                                                                                  \n",
      " conv1d_7 (Conv1D)              (None, 382, 32)      12320       ['bidirectional_7[0][0]']        \n",
      "                                                                                                  \n",
      " global_average_pooling1d_5 (Gl  (None, 32)          0           ['conv1d_7[0][0]']               \n",
      " obalAveragePooling1D)                                                                            \n",
      "                                                                                                  \n",
      " concatenate_6 (Concatenate)    (None, 64)           0           ['global_average_pooling1d_5[0][0\n",
      "                                                                 ]',                              \n",
      "                                                                  'global_average_pooling1d_5[0][0\n",
      "                                                                 ]']                              \n",
      "                                                                                                  \n",
      " dense_78 (Dense)               (None, 4)            260         ['concatenate_6[0][0]']          \n",
      "                                                                                                  \n",
      " dense_79 (Dense)               (None, 4)            260         ['concatenate_6[0][0]']          \n",
      "                                                                                                  \n",
      " dense_80 (Dense)               (None, 4)            260         ['concatenate_6[0][0]']          \n",
      "                                                                                                  \n",
      " dense_81 (Dense)               (None, 4)            260         ['concatenate_6[0][0]']          \n",
      "                                                                                                  \n",
      " dense_82 (Dense)               (None, 4)            260         ['concatenate_6[0][0]']          \n",
      "                                                                                                  \n",
      " dense_83 (Dense)               (None, 4)            260         ['concatenate_6[0][0]']          \n",
      "                                                                                                  \n",
      " dense_84 (Dense)               (None, 4)            260         ['concatenate_6[0][0]']          \n",
      "                                                                                                  \n",
      " dense_85 (Dense)               (None, 4)            260         ['concatenate_6[0][0]']          \n",
      "                                                                                                  \n",
      " dense_86 (Dense)               (None, 4)            260         ['concatenate_6[0][0]']          \n",
      "                                                                                                  \n",
      " dense_87 (Dense)               (None, 4)            260         ['concatenate_6[0][0]']          \n",
      "                                                                                                  \n",
      " dense_88 (Dense)               (None, 4)            260         ['concatenate_6[0][0]']          \n",
      "                                                                                                  \n",
      " dense_89 (Dense)               (None, 4)            260         ['concatenate_6[0][0]']          \n",
      "                                                                                                  \n",
      " reshape_72 (Reshape)           (None, 1, 4)         0           ['dense_78[0][0]']               \n",
      "                                                                                                  \n",
      " reshape_73 (Reshape)           (None, 1, 4)         0           ['dense_79[0][0]']               \n",
      "                                                                                                  \n",
      " reshape_74 (Reshape)           (None, 1, 4)         0           ['dense_80[0][0]']               \n",
      "                                                                                                  \n",
      " reshape_75 (Reshape)           (None, 1, 4)         0           ['dense_81[0][0]']               \n",
      "                                                                                                  \n",
      " reshape_76 (Reshape)           (None, 1, 4)         0           ['dense_82[0][0]']               \n",
      "                                                                                                  \n",
      " reshape_77 (Reshape)           (None, 1, 4)         0           ['dense_83[0][0]']               \n",
      "                                                                                                  \n",
      " reshape_78 (Reshape)           (None, 1, 4)         0           ['dense_84[0][0]']               \n",
      "                                                                                                  \n",
      " reshape_79 (Reshape)           (None, 1, 4)         0           ['dense_85[0][0]']               \n",
      "                                                                                                  \n",
      " reshape_80 (Reshape)           (None, 1, 4)         0           ['dense_86[0][0]']               \n",
      "                                                                                                  \n",
      " reshape_81 (Reshape)           (None, 1, 4)         0           ['dense_87[0][0]']               \n",
      "                                                                                                  \n",
      " reshape_82 (Reshape)           (None, 1, 4)         0           ['dense_88[0][0]']               \n",
      "                                                                                                  \n",
      " reshape_83 (Reshape)           (None, 1, 4)         0           ['dense_89[0][0]']               \n",
      "                                                                                                  \n",
      " output_aspect (Dense)          (None, 12)           780         ['concatenate_6[0][0]']          \n",
      "                                                                                                  \n",
      " output_polarity (Concatenate)  (None, 12, 4)        0           ['reshape_72[0][0]',             \n",
      "                                                                  'reshape_73[0][0]',             \n",
      "                                                                  'reshape_74[0][0]',             \n",
      "                                                                  'reshape_75[0][0]',             \n",
      "                                                                  'reshape_76[0][0]',             \n",
      "                                                                  'reshape_77[0][0]',             \n",
      "                                                                  'reshape_78[0][0]',             \n",
      "                                                                  'reshape_79[0][0]',             \n",
      "                                                                  'reshape_80[0][0]',             \n",
      "                                                                  'reshape_81[0][0]',             \n"
     ]
    },
    {
     "name": "stdout",
     "output_type": "stream",
     "text": [
      "                                                                  'reshape_82[0][0]',             \n",
      "                                                                  'reshape_83[0][0]']             \n",
      "                                                                                                  \n",
      "==================================================================================================\n",
      "Total params: 1,415,100\n",
      "Trainable params: 1,415,100\n",
      "Non-trainable params: 0\n",
      "__________________________________________________________________________________________________\n"
     ]
    }
   ],
   "source": [
    "model3.summary()"
   ]
  },
  {
   "cell_type": "code",
   "execution_count": 78,
   "id": "7c71af8b",
   "metadata": {},
   "outputs": [],
   "source": [
    "callback = tf.keras.callbacks.EarlyStopping(patience=5, restore_best_weights=True)"
   ]
  },
  {
   "cell_type": "code",
   "execution_count": 82,
   "id": "f12814b9",
   "metadata": {},
   "outputs": [],
   "source": [
    "loss = {'output_aspect' : \"binary_crossentropy\" , 'output_polarity': 'categorical_crossentropy'}\n",
    "model3.compile(optimizer = 'adam', loss = loss, loss_weights = [0.1,1],metrics=['accuracy'])"
   ]
  },
  {
   "cell_type": "code",
   "execution_count": 83,
   "id": "7984f2a8",
   "metadata": {},
   "outputs": [],
   "source": [
    "from sklearn.model_selection import train_test_split\n",
    "X_train,X_test,y_aspect_train,y_aspect_test,y_pol_train,y_pol_test = train_test_split(X, y_aspect,y_pol,test_size= 0.3 ,random_state=42)"
   ]
  },
  {
   "cell_type": "code",
   "execution_count": 85,
   "id": "72cc65db",
   "metadata": {},
   "outputs": [
    {
     "name": "stdout",
     "output_type": "stream",
     "text": [
      "Epoch 1/60\n",
      "100/100 [==============================] - 95s 953ms/step - loss: 0.5870 - output_aspect_loss: 0.3849 - output_polarity_loss: 0.5485 - output_aspect_accuracy: 0.5088 - output_polarity_accuracy: 0.8126 - val_loss: 0.5574 - val_output_aspect_loss: 0.3614 - val_output_polarity_loss: 0.5212 - val_output_aspect_accuracy: 0.5051 - val_output_polarity_accuracy: 0.8229\n",
      "Epoch 2/60\n",
      "100/100 [==============================] - 97s 967ms/step - loss: 0.5553 - output_aspect_loss: 0.3552 - output_polarity_loss: 0.5198 - output_aspect_accuracy: 0.4995 - output_polarity_accuracy: 0.8222 - val_loss: 0.5347 - val_output_aspect_loss: 0.3440 - val_output_polarity_loss: 0.5003 - val_output_aspect_accuracy: 0.5121 - val_output_polarity_accuracy: 0.8268\n",
      "Epoch 3/60\n",
      "100/100 [==============================] - 96s 961ms/step - loss: 0.5332 - output_aspect_loss: 0.3406 - output_polarity_loss: 0.4991 - output_aspect_accuracy: 0.5094 - output_polarity_accuracy: 0.8273 - val_loss: 0.5241 - val_output_aspect_loss: 0.3384 - val_output_polarity_loss: 0.4902 - val_output_aspect_accuracy: 0.5202 - val_output_polarity_accuracy: 0.8280\n",
      "Epoch 4/60\n",
      "100/100 [==============================] - 97s 972ms/step - loss: 0.5162 - output_aspect_loss: 0.3324 - output_polarity_loss: 0.4829 - output_aspect_accuracy: 0.5157 - output_polarity_accuracy: 0.8311 - val_loss: 0.5168 - val_output_aspect_loss: 0.3367 - val_output_polarity_loss: 0.4831 - val_output_aspect_accuracy: 0.5275 - val_output_polarity_accuracy: 0.8320\n",
      "Epoch 5/60\n",
      "100/100 [==============================] - 98s 981ms/step - loss: 0.4990 - output_aspect_loss: 0.3250 - output_polarity_loss: 0.4665 - output_aspect_accuracy: 0.5214 - output_polarity_accuracy: 0.8374 - val_loss: 0.5000 - val_output_aspect_loss: 0.3279 - val_output_polarity_loss: 0.4672 - val_output_aspect_accuracy: 0.5187 - val_output_polarity_accuracy: 0.8350\n",
      "Epoch 6/60\n",
      "100/100 [==============================] - 97s 970ms/step - loss: 0.4825 - output_aspect_loss: 0.3154 - output_polarity_loss: 0.4510 - output_aspect_accuracy: 0.5184 - output_polarity_accuracy: 0.8407 - val_loss: 0.4915 - val_output_aspect_loss: 0.3211 - val_output_polarity_loss: 0.4594 - val_output_aspect_accuracy: 0.5121 - val_output_polarity_accuracy: 0.8416\n",
      "Epoch 7/60\n",
      "100/100 [==============================] - 98s 986ms/step - loss: 0.4653 - output_aspect_loss: 0.3033 - output_polarity_loss: 0.4350 - output_aspect_accuracy: 0.5031 - output_polarity_accuracy: 0.8476 - val_loss: 0.4772 - val_output_aspect_loss: 0.3118 - val_output_polarity_loss: 0.4460 - val_output_aspect_accuracy: 0.4996 - val_output_polarity_accuracy: 0.8464\n",
      "Epoch 8/60\n",
      "100/100 [==============================] - 99s 986ms/step - loss: 0.4436 - output_aspect_loss: 0.2884 - output_polarity_loss: 0.4147 - output_aspect_accuracy: 0.4841 - output_polarity_accuracy: 0.8540 - val_loss: 0.4672 - val_output_aspect_loss: 0.3041 - val_output_polarity_loss: 0.4368 - val_output_aspect_accuracy: 0.4685 - val_output_polarity_accuracy: 0.8493\n",
      "Epoch 9/60\n",
      "100/100 [==============================] - 99s 989ms/step - loss: 0.4242 - output_aspect_loss: 0.2743 - output_polarity_loss: 0.3968 - output_aspect_accuracy: 0.4671 - output_polarity_accuracy: 0.8602 - val_loss: 0.4640 - val_output_aspect_loss: 0.2984 - val_output_polarity_loss: 0.4341 - val_output_aspect_accuracy: 0.4571 - val_output_polarity_accuracy: 0.8510\n",
      "Epoch 10/60\n",
      "100/100 [==============================] - 102s 1s/step - loss: 0.4059 - output_aspect_loss: 0.2609 - output_polarity_loss: 0.3799 - output_aspect_accuracy: 0.4564 - output_polarity_accuracy: 0.8660 - val_loss: 0.4546 - val_output_aspect_loss: 0.2909 - val_output_polarity_loss: 0.4255 - val_output_aspect_accuracy: 0.4607 - val_output_polarity_accuracy: 0.8536\n",
      "Epoch 11/60\n",
      "100/100 [==============================] - 100s 1s/step - loss: 0.3899 - output_aspect_loss: 0.2478 - output_polarity_loss: 0.3651 - output_aspect_accuracy: 0.4431 - output_polarity_accuracy: 0.8707 - val_loss: 0.4496 - val_output_aspect_loss: 0.2884 - val_output_polarity_loss: 0.4208 - val_output_aspect_accuracy: 0.4512 - val_output_polarity_accuracy: 0.8559\n",
      "Epoch 12/60\n",
      "100/100 [==============================] - 106s 1s/step - loss: 0.3736 - output_aspect_loss: 0.2373 - output_polarity_loss: 0.3499 - output_aspect_accuracy: 0.4281 - output_polarity_accuracy: 0.8750 - val_loss: 0.4488 - val_output_aspect_loss: 0.2875 - val_output_polarity_loss: 0.4201 - val_output_aspect_accuracy: 0.4409 - val_output_polarity_accuracy: 0.8571\n",
      "Epoch 13/60\n",
      "100/100 [==============================] - 108s 1s/step - loss: 0.3602 - output_aspect_loss: 0.2276 - output_polarity_loss: 0.3375 - output_aspect_accuracy: 0.4086 - output_polarity_accuracy: 0.8784 - val_loss: 0.4519 - val_output_aspect_loss: 0.2880 - val_output_polarity_loss: 0.4231 - val_output_aspect_accuracy: 0.4270 - val_output_polarity_accuracy: 0.8585\n",
      "Epoch 14/60\n",
      "100/100 [==============================] - 103s 1s/step - loss: 0.3450 - output_aspect_loss: 0.2171 - output_polarity_loss: 0.3233 - output_aspect_accuracy: 0.3882 - output_polarity_accuracy: 0.8833 - val_loss: 0.4541 - val_output_aspect_loss: 0.2878 - val_output_polarity_loss: 0.4253 - val_output_aspect_accuracy: 0.4098 - val_output_polarity_accuracy: 0.8602\n",
      "Epoch 15/60\n",
      "100/100 [==============================] - 107s 1s/step - loss: 0.3288 - output_aspect_loss: 0.2066 - output_polarity_loss: 0.3081 - output_aspect_accuracy: 0.3781 - output_polarity_accuracy: 0.8892 - val_loss: 0.4615 - val_output_aspect_loss: 0.2936 - val_output_polarity_loss: 0.4321 - val_output_aspect_accuracy: 0.4252 - val_output_polarity_accuracy: 0.8601\n",
      "Epoch 16/60\n",
      "100/100 [==============================] - 108s 1s/step - loss: 0.3165 - output_aspect_loss: 0.1976 - output_polarity_loss: 0.2967 - output_aspect_accuracy: 0.3584 - output_polarity_accuracy: 0.8923 - val_loss: 0.4623 - val_output_aspect_loss: 0.2932 - val_output_polarity_loss: 0.4330 - val_output_aspect_accuracy: 0.3606 - val_output_polarity_accuracy: 0.8582\n",
      "Epoch 17/60\n",
      "100/100 [==============================] - 109s 1s/step - loss: 0.3002 - output_aspect_loss: 0.1862 - output_polarity_loss: 0.2816 - output_aspect_accuracy: 0.3462 - output_polarity_accuracy: 0.8982 - val_loss: 0.4585 - val_output_aspect_loss: 0.2883 - val_output_polarity_loss: 0.4297 - val_output_aspect_accuracy: 0.3595 - val_output_polarity_accuracy: 0.8608\n"
     ]
    }
   ],
   "source": [
    "history = model3.fit(X_train,[y_aspect_train,y_pol_train],\n",
    "                   batch_size=64,\n",
    "                    epochs=60,\n",
    "                    validation_data=[X_test, [y_aspect_test,y_pol_test]],callbacks=[callback])"
   ]
  },
  {
   "cell_type": "code",
   "execution_count": 86,
   "id": "beab3639",
   "metadata": {},
   "outputs": [
    {
     "data": {
      "image/png": "[encoded data removed]",
      "text/plain": [
       "<Figure size 432x288 with 1 Axes>"
      ]
     },
     "metadata": {
      "needs_background": "light"
     },
     "output_type": "display_data"
    }
   ],
   "source": [
    "import matplotlib.pyplot as plt\n",
    "plt.plot(history.history['loss'], label='loss')\n",
    "plt.plot(history.history['val_loss'], label='val_loss')\n",
    "plt.xlabel('epoch')\n",
    "plt.legend()\n",
    "plt.show() "
   ]
  },
  {
   "cell_type": "code",
   "execution_count": 87,
   "id": "b666408c",
   "metadata": {},
   "outputs": [
    {
     "data": {
      "image/png": "[encoded data removed]",
      "text/plain": [
       "<Figure size 432x288 with 1 Axes>"
      ]
     },
     "metadata": {
      "needs_background": "light"
     },
     "output_type": "display_data"
    }
   ],
   "source": [
    "import matplotlib.pyplot as plt\n",
    "plt.plot(history.history['output_aspect_accuracy'], label='acc_aspec')\n",
    "plt.plot(history.history['val_output_aspect_accuracy'], label='val_acc_aspect')\n",
    "plt.xlabel('epoch')\n",
    "plt.legend()\n",
    "plt.show() "
   ]
  },
  {
   "cell_type": "code",
   "execution_count": 88,
   "id": "50372375",
   "metadata": {},
   "outputs": [
    {
     "data": {
      "image/png": "[encoded data removed]",
      "text/plain": [
       "<Figure size 432x288 with 1 Axes>"
      ]
     },
     "metadata": {
      "needs_background": "light"
     },
     "output_type": "display_data"
    }
   ],
   "source": [
    "import matplotlib.pyplot as plt\n",
    "plt.plot(history.history['output_polarity_accuracy'], label='acc_polarity')\n",
    "plt.plot(history.history['val_output_polarity_accuracy'], label='val_acc_polarity')\n",
    "plt.xlabel('epoch')\n",
    "plt.legend()\n",
    "plt.show() "
   ]
  },
  {
   "cell_type": "markdown",
   "id": "874d797d",
   "metadata": {},
   "source": [
    "## Model Attention model"
   ]
  },
  {
   "cell_type": "code",
   "execution_count": 16,
   "id": "c27f54b7",
   "metadata": {},
   "outputs": [],
   "source": [
    "from tensorflow.keras.layers import Layer\n",
    "from tensorflow.keras import backend as K\n",
    "class attention(Layer):\n",
    "    def __init__(self, return_sequences=True,**kwargs):\n",
    "        self.return_sequences = return_sequences\n",
    "\n",
    "        super(attention,self).__init__()\n",
    "        \n",
    "\n",
    "    def build(self, input_shape):\n",
    "        self.W=self.add_weight(name=\"att_weight\", shape=(input_shape[-1],1),\n",
    "                               initializer=\"normal\")\n",
    "        self.b=self.add_weight(name=\"att_bias0\", shape=(input_shape[1],1),\n",
    "                               initializer=\"normal\")\n",
    "        self.b=self.add_weight(name=\"att_bias1\", shape=(input_shape[1],1)),\n",
    "        self.b=self.add_weight(name=\"att_bias2\", shape=(input_shape[1],1))\n",
    "\n",
    "        super(attention,self).build(input_shape)\n",
    "\n",
    "\n",
    "    def call(self, x):\n",
    "        e = K.tanh(K.dot(x,self.W)+self.b)\n",
    "        a = K.softmax(e, axis=1)\n",
    "        output = x*a\n",
    "        if self.return_sequences:\n",
    "\n",
    "            return output\n",
    "        return K.sum(output, axis=1)\n",
    "    \n",
    "    def get_config(self):\n",
    "        config = super().get_config()\n",
    "        config.update({\n",
    "            \"return_sequences\": self.return_sequences,\n",
    "        })\n",
    "        return config\n",
    "    \n",
    "    "
   ]
  },
  {
   "cell_type": "code",
   "execution_count": 17,
   "id": "a993603c",
   "metadata": {},
   "outputs": [],
   "source": [
    "from tensorflow.keras.initializers import Constant\n",
    "def define_model_attetion(max_length,embedding_dim,embedding_matrix,vocab_size):\n",
    "    inputs1 = Input(shape=(max_length,))\n",
    "    aspect = Embedding(\n",
    "            vocab_size,\n",
    "            embedding_dim,\n",
    "            embeddings_initializer=Constant(embedding_matrix))(inputs1)\n",
    "    aspect = Dropout(0.5)(aspect)\n",
    "    aspect1=Bidirectional(GRU(64,return_sequences=True))(aspect)\n",
    "    aspect1 = Dropout(0.5)(aspect1)\n",
    "    aspect2_1 = attention(return_sequences=False)(aspect1)\n",
    "    aspect2_2 = MaxPooling1D()(aspect1)\n",
    "    aspect2_2 = Flatten()(aspect2_2)\n",
    "    aspect2_3 = AveragePooling1D()(aspect1)\n",
    "    aspect2_3 = Flatten()(aspect2_3)\n",
    "\n",
    "    aspect3 = Concatenate(axis= -1)([aspect2_1,aspect2_2,aspect2_3])\n",
    "    aspect3 = Dropout(0.5)(aspect3)\n",
    "    \n",
    "    aspect_output = Dense(12,activation='sigmoid',name = 'output_aspect')(aspect3)\n",
    "\n",
    "\n",
    "\n",
    "    pol = Embedding(\n",
    "            vocab_size,\n",
    "            embedding_dim,\n",
    "            embeddings_initializer=Constant(embedding_matrix))(inputs1)\n",
    "    pol = Dropout(0.5)(pol)\n",
    "    pol1 = Bidirectional(GRU(64,return_sequences=True))(pol)\n",
    "    pol1 = Dropout(0.5)(pol1)\n",
    "    pol2_1 = Conv1D(filters=32, kernel_size=3, padding='same')(pol1)\n",
    "    pol2_1 =  MaxPooling1D()(pol2_1)\n",
    "    pol2_1 =  GlobalMaxPooling1D()(pol2_1)\n",
    "\n",
    "    pol2_2 = Conv1D(filters=32, kernel_size=4, padding='same')(pol1)\n",
    "    pol2_2 =  MaxPooling1D()(pol2_2)\n",
    "    pol2_2 =  GlobalMaxPooling1D()(pol2_2)\n",
    "\n",
    "    pol2_3 = Conv1D(filters=32, kernel_size=5, padding='same')(pol1)\n",
    "    pol2_3 =  MaxPooling1D()(pol2_3)\n",
    "    pol2_3 =  GlobalMaxPooling1D()(pol2_3)\n",
    "\n",
    "    pol2 = Concatenate(axis = -1)([pol2_1,pol2_2,pol2_3])\n",
    "    aspect_pol = Concatenate(axis = -1)([aspect3,pol2])\n",
    "    aspect_pol = Dropout(0.5)(aspect_pol)\n",
    "\n",
    "    output_pol1 = Dense(4,activation = 'softmax',)(aspect_pol)\n",
    "    output_pol1 = Reshape((-1,4))(output_pol1)\n",
    "\n",
    "    output_pol2 = Dense(4,activation = 'softmax')(aspect_pol)\n",
    "    output_pol2 = Reshape((-1,4))(output_pol2)\n",
    "\n",
    "    output_pol3 = Dense(4,activation = 'softmax')(aspect_pol)\n",
    "    output_pol3 = Reshape((-1,4))(output_pol3)\n",
    "\n",
    "    output_pol4 = Dense(4,activation = 'softmax')(aspect_pol)\n",
    "    output_pol4 = Reshape((-1,4))(output_pol4)\n",
    "\n",
    "    output_pol5 = Dense(4,activation = 'softmax')(aspect_pol)\n",
    "    output_pol5 = Reshape((-1,4))(output_pol5)\n",
    "\n",
    "    output_pol6 = Dense(4,activation = 'softmax')(aspect_pol)\n",
    "    output_pol6 = Reshape((-1,4))(output_pol6)\n",
    "\n",
    "    output_pol7 = Dense(4,activation = 'softmax')(aspect_pol)\n",
    "    output_pol7 = Reshape((-1,4))(output_pol7)\n",
    "\n",
    "    output_pol8 = Dense(4,activation = 'softmax')(aspect_pol)\n",
    "    output_pol8 = Reshape((-1,4))(output_pol8)\n",
    "\n",
    "    output_pol9 = Dense(4,activation = 'softmax')(aspect_pol)\n",
    "    output_pol9 = Reshape((-1,4))(output_pol9)\n",
    "\n",
    "    output_pol10 = Dense(4,activation = 'softmax')(aspect_pol)\n",
    "    output_pol10 = Reshape((-1,4))(output_pol10)\n",
    "\n",
    "    output_pol11 = Dense(4,activation = 'softmax')(aspect_pol)\n",
    "    output_pol11 = Reshape((-1,4))(output_pol11)\n",
    "\n",
    "    output_pol12 = Dense(4,activation = 'softmax')(aspect_pol)\n",
    "    output_pol12 = Reshape((-1,4))(output_pol12)\n",
    "\n",
    "\n",
    "\n",
    "    output_pol = concatenate([output_pol1,output_pol2,output_pol3,output_pol4,output_pol5,\n",
    "                        output_pol6,output_pol7,output_pol8,output_pol9,output_pol10,output_pol11,output_pol12],name='output_polarity',axis = 1)\n",
    "\n",
    "    model = Model(inputs = inputs1 ,outputs =[aspect_output,output_pol])\n",
    "    return model\n",
    "\n",
    "\n"
   ]
  },
  {
   "cell_type": "code",
   "execution_count": 18,
   "id": "88eface5",
   "metadata": {},
   "outputs": [],
   "source": [
    "model = define_model_attetion(max_length=max_length,embedding_dim=embedding_dim,embedding_matrix=embedding_matrix,vocab_size=vocab_size)"
   ]
  },
  {
   "cell_type": "code",
   "execution_count": 19,
   "id": "75d2be51",
   "metadata": {},
   "outputs": [
    {
     "name": "stdout",
     "output_type": "stream",
     "text": [
      "Model: \"model_1\"\n",
      "__________________________________________________________________________________________________\n",
      " Layer (type)                   Output Shape         Param #     Connected to                     \n",
      "==================================================================================================\n",
      " input_5 (InputLayer)           [(None, 382)]        0           []                               \n",
      "                                                                                                  \n",
      " embedding_4 (Embedding)        (None, 382, 300)     1212000     ['input_5[0][0]']                \n",
      "                                                                                                  \n",
      " embedding_5 (Embedding)        (None, 382, 300)     1212000     ['input_5[0][0]']                \n",
      "                                                                                                  \n",
      " dropout_2 (Dropout)            (None, 382, 300)     0           ['embedding_4[0][0]']            \n",
      "                                                                                                  \n",
      " dropout_5 (Dropout)            (None, 382, 300)     0           ['embedding_5[0][0]']            \n",
      "                                                                                                  \n",
      " bidirectional_4 (Bidirectional  (None, 382, 128)    140544      ['dropout_2[0][0]']              \n",
      " )                                                                                                \n",
      "                                                                                                  \n",
      " bidirectional_5 (Bidirectional  (None, 382, 128)    140544      ['dropout_5[0][0]']              \n",
      " )                                                                                                \n",
      "                                                                                                  \n",
      " dropout_3 (Dropout)            (None, 382, 128)     0           ['bidirectional_4[0][0]']        \n",
      "                                                                                                  \n",
      " dropout_6 (Dropout)            (None, 382, 128)     0           ['bidirectional_5[0][0]']        \n",
      "                                                                                                  \n",
      " max_pooling1d (MaxPooling1D)   (None, 191, 128)     0           ['dropout_3[0][0]']              \n",
      "                                                                                                  \n",
      " average_pooling1d (AveragePool  (None, 191, 128)    0           ['dropout_3[0][0]']              \n",
      " ing1D)                                                                                           \n",
      "                                                                                                  \n",
      " conv1d_3 (Conv1D)              (None, 382, 32)      12320       ['dropout_6[0][0]']              \n",
      "                                                                                                  \n",
      " conv1d_4 (Conv1D)              (None, 382, 32)      16416       ['dropout_6[0][0]']              \n",
      "                                                                                                  \n",
      " conv1d_5 (Conv1D)              (None, 382, 32)      20512       ['dropout_6[0][0]']              \n",
      "                                                                                                  \n",
      " attention (attention)          (None, 128)          892         ['dropout_3[0][0]']              \n",
      "                                                                                                  \n",
      " flatten (Flatten)              (None, 24448)        0           ['max_pooling1d[0][0]']          \n",
      "                                                                                                  \n",
      " flatten_1 (Flatten)            (None, 24448)        0           ['average_pooling1d[0][0]']      \n",
      "                                                                                                  \n",
      " max_pooling1d_1 (MaxPooling1D)  (None, 191, 32)     0           ['conv1d_3[0][0]']               \n",
      "                                                                                                  \n",
      " max_pooling1d_2 (MaxPooling1D)  (None, 191, 32)     0           ['conv1d_4[0][0]']               \n",
      "                                                                                                  \n",
      " max_pooling1d_3 (MaxPooling1D)  (None, 191, 32)     0           ['conv1d_5[0][0]']               \n",
      "                                                                                                  \n",
      " concatenate_2 (Concatenate)    (None, 49024)        0           ['attention[0][0]',              \n",
      "                                                                  'flatten[0][0]',                \n",
      "                                                                  'flatten_1[0][0]']              \n",
      "                                                                                                  \n",
      " global_max_pooling1d_2 (Global  (None, 32)          0           ['max_pooling1d_1[0][0]']        \n",
      " MaxPooling1D)                                                                                    \n",
      "                                                                                                  \n",
      " global_max_pooling1d_3 (Global  (None, 32)          0           ['max_pooling1d_2[0][0]']        \n",
      " MaxPooling1D)                                                                                    \n",
      "                                                                                                  \n",
      " global_max_pooling1d_4 (Global  (None, 32)          0           ['max_pooling1d_3[0][0]']        \n",
      " MaxPooling1D)                                                                                    \n",
      "                                                                                                  \n",
      " dropout_4 (Dropout)            (None, 49024)        0           ['concatenate_2[0][0]']          \n",
      "                                                                                                  \n",
      " concatenate_3 (Concatenate)    (None, 96)           0           ['global_max_pooling1d_2[0][0]', \n",
      "                                                                  'global_max_pooling1d_3[0][0]', \n",
      "                                                                  'global_max_pooling1d_4[0][0]'] \n",
      "                                                                                                  \n",
      " concatenate_4 (Concatenate)    (None, 49120)        0           ['dropout_4[0][0]',              \n",
      "                                                                  'concatenate_3[0][0]']          \n",
      "                                                                                                  \n",
      " dropout_7 (Dropout)            (None, 49120)        0           ['concatenate_4[0][0]']          \n",
      "                                                                                                  \n",
      " dense_24 (Dense)               (None, 4)            196484      ['dropout_7[0][0]']              \n",
      "                                                                                                  \n",
      " dense_25 (Dense)               (None, 4)            196484      ['dropout_7[0][0]']              \n",
      "                                                                                                  \n",
      " dense_26 (Dense)               (None, 4)            196484      ['dropout_7[0][0]']              \n",
      "                                                                                                  \n",
      " dense_27 (Dense)               (None, 4)            196484      ['dropout_7[0][0]']              \n",
      "                                                                                                  \n",
      " dense_28 (Dense)               (None, 4)            196484      ['dropout_7[0][0]']              \n",
      "                                                                                                  \n",
      " dense_29 (Dense)               (None, 4)            196484      ['dropout_7[0][0]']              \n",
      "                                                                                                  \n",
      " dense_30 (Dense)               (None, 4)            196484      ['dropout_7[0][0]']              \n"
     ]
    },
    {
     "name": "stdout",
     "output_type": "stream",
     "text": [
      "                                                                                                  \n",
      " dense_31 (Dense)               (None, 4)            196484      ['dropout_7[0][0]']              \n",
      "                                                                                                  \n",
      " dense_32 (Dense)               (None, 4)            196484      ['dropout_7[0][0]']              \n",
      "                                                                                                  \n",
      " dense_33 (Dense)               (None, 4)            196484      ['dropout_7[0][0]']              \n",
      "                                                                                                  \n",
      " dense_34 (Dense)               (None, 4)            196484      ['dropout_7[0][0]']              \n",
      "                                                                                                  \n",
      " dense_35 (Dense)               (None, 4)            196484      ['dropout_7[0][0]']              \n",
      "                                                                                                  \n",
      " reshape_24 (Reshape)           (None, 1, 4)         0           ['dense_24[0][0]']               \n",
      "                                                                                                  \n",
      " reshape_25 (Reshape)           (None, 1, 4)         0           ['dense_25[0][0]']               \n",
      "                                                                                                  \n",
      " reshape_26 (Reshape)           (None, 1, 4)         0           ['dense_26[0][0]']               \n",
      "                                                                                                  \n",
      " reshape_27 (Reshape)           (None, 1, 4)         0           ['dense_27[0][0]']               \n",
      "                                                                                                  \n",
      " reshape_28 (Reshape)           (None, 1, 4)         0           ['dense_28[0][0]']               \n",
      "                                                                                                  \n",
      " reshape_29 (Reshape)           (None, 1, 4)         0           ['dense_29[0][0]']               \n",
      "                                                                                                  \n",
      " reshape_30 (Reshape)           (None, 1, 4)         0           ['dense_30[0][0]']               \n",
      "                                                                                                  \n",
      " reshape_31 (Reshape)           (None, 1, 4)         0           ['dense_31[0][0]']               \n",
      "                                                                                                  \n",
      " reshape_32 (Reshape)           (None, 1, 4)         0           ['dense_32[0][0]']               \n",
      "                                                                                                  \n",
      " reshape_33 (Reshape)           (None, 1, 4)         0           ['dense_33[0][0]']               \n",
      "                                                                                                  \n",
      " reshape_34 (Reshape)           (None, 1, 4)         0           ['dense_34[0][0]']               \n",
      "                                                                                                  \n",
      " reshape_35 (Reshape)           (None, 1, 4)         0           ['dense_35[0][0]']               \n",
      "                                                                                                  \n",
      " output_aspect (Dense)          (None, 12)           588300      ['dropout_4[0][0]']              \n",
      "                                                                                                  \n",
      " output_polarity (Concatenate)  (None, 12, 4)        0           ['reshape_24[0][0]',             \n",
      "                                                                  'reshape_25[0][0]',             \n",
      "                                                                  'reshape_26[0][0]',             \n",
      "                                                                  'reshape_27[0][0]',             \n",
      "                                                                  'reshape_28[0][0]',             \n",
      "                                                                  'reshape_29[0][0]',             \n",
      "                                                                  'reshape_30[0][0]',             \n",
      "                                                                  'reshape_31[0][0]',             \n",
      "                                                                  'reshape_32[0][0]',             \n",
      "                                                                  'reshape_33[0][0]',             \n",
      "                                                                  'reshape_34[0][0]',             \n",
      "                                                                  'reshape_35[0][0]']             \n",
      "                                                                                                  \n",
      "==================================================================================================\n",
      "Total params: 5,701,336\n",
      "Trainable params: 5,701,336\n",
      "Non-trainable params: 0\n",
      "__________________________________________________________________________________________________\n"
     ]
    }
   ],
   "source": [
    "model.summary()"
   ]
  },
  {
   "cell_type": "code",
   "execution_count": 20,
   "id": "6b51e5a6",
   "metadata": {},
   "outputs": [],
   "source": [
    "callback = tf.keras.callbacks.EarlyStopping(patience=5, restore_best_weights=True)"
   ]
  },
  {
   "cell_type": "code",
   "execution_count": 22,
   "id": "49f7184f",
   "metadata": {},
   "outputs": [],
   "source": [
    "loss = {'output_aspect' : \"binary_crossentropy\" , 'output_polarity': 'categorical_crossentropy'}\n",
    "model.compile(optimizer = 'adam', loss = loss, loss_weights = [0.1,1],metrics=['accuracy'])"
   ]
  },
  {
   "cell_type": "code",
   "execution_count": 23,
   "id": "d1b51cf6",
   "metadata": {},
   "outputs": [],
   "source": [
    "from sklearn.model_selection import train_test_split\n",
    "X_train,X_test,y_aspect_train,y_aspect_test,y_pol_train,y_pol_test = train_test_split(X, y_aspect,y_pol,test_size= 0.3 ,random_state=42)"
   ]
  },
  {
   "cell_type": "code",
   "execution_count": 24,
   "id": "941387c4",
   "metadata": {},
   "outputs": [
    {
     "data": {
      "text/plain": [
       "6358"
      ]
     },
     "execution_count": 24,
     "metadata": {},
     "output_type": "execute_result"
    }
   ],
   "source": [
    "len(X_train)"
   ]
  },
  {
   "cell_type": "code",
   "execution_count": 25,
   "id": "55b99508",
   "metadata": {},
   "outputs": [
    {
     "name": "stdout",
     "output_type": "stream",
     "text": [
      "Epoch 1/60\n",
      "WARNING:tensorflow:Gradients do not exist for variables ['attention/att_bias1:0'] when minimizing the loss. If you're using `model.compile()`, did you forget to provide a `loss`argument?\n",
      "WARNING:tensorflow:Gradients do not exist for variables ['attention/att_bias1:0'] when minimizing the loss. If you're using `model.compile()`, did you forget to provide a `loss`argument?\n",
      "100/100 [==============================] - 232s 2s/step - loss: 0.7461 - output_aspect_loss: 0.4467 - output_polarity_loss: 0.7014 - output_aspect_accuracy: 0.5102 - output_polarity_accuracy: 0.7751 - val_loss: 1.4376 - val_output_aspect_loss: 0.5129 - val_output_polarity_loss: 1.3863 - val_output_aspect_accuracy: 0.5191 - val_output_polarity_accuracy: 0.3258\n",
      "Epoch 2/60\n",
      "100/100 [==============================] - 220s 2s/step - loss: 0.5997 - output_aspect_loss: 0.3662 - output_polarity_loss: 0.5631 - output_aspect_accuracy: 0.5156 - output_polarity_accuracy: 0.8103 - val_loss: 1.1103 - val_output_aspect_loss: 0.4552 - val_output_polarity_loss: 1.0648 - val_output_aspect_accuracy: 0.5077 - val_output_polarity_accuracy: 0.5830\n",
      "Epoch 3/60\n",
      "100/100 [==============================] - 231s 2s/step - loss: 0.5312 - output_aspect_loss: 0.3295 - output_polarity_loss: 0.4983 - output_aspect_accuracy: 0.5151 - output_polarity_accuracy: 0.8279 - val_loss: 0.6400 - val_output_aspect_loss: 0.3532 - val_output_polarity_loss: 0.6047 - val_output_aspect_accuracy: 0.4974 - val_output_polarity_accuracy: 0.8047\n",
      "Epoch 4/60\n",
      "100/100 [==============================] - 233s 2s/step - loss: 0.4726 - output_aspect_loss: 0.2924 - output_polarity_loss: 0.4433 - output_aspect_accuracy: 0.4910 - output_polarity_accuracy: 0.8461 - val_loss: 0.5365 - val_output_aspect_loss: 0.3041 - val_output_polarity_loss: 0.5061 - val_output_aspect_accuracy: 0.4769 - val_output_polarity_accuracy: 0.8268\n",
      "Epoch 5/60\n",
      "100/100 [==============================] - 231s 2s/step - loss: 0.4303 - output_aspect_loss: 0.2638 - output_polarity_loss: 0.4039 - output_aspect_accuracy: 0.4715 - output_polarity_accuracy: 0.8581 - val_loss: 0.5705 - val_output_aspect_loss: 0.2991 - val_output_polarity_loss: 0.5406 - val_output_aspect_accuracy: 0.4417 - val_output_polarity_accuracy: 0.8120\n",
      "Epoch 6/60\n",
      "100/100 [==============================] - 233s 2s/step - loss: 0.3908 - output_aspect_loss: 0.2407 - output_polarity_loss: 0.3667 - output_aspect_accuracy: 0.4561 - output_polarity_accuracy: 0.8698 - val_loss: 0.4631 - val_output_aspect_loss: 0.2812 - val_output_polarity_loss: 0.4350 - val_output_aspect_accuracy: 0.4424 - val_output_polarity_accuracy: 0.8440\n",
      "Epoch 7/60\n",
      "100/100 [==============================] - 235s 2s/step - loss: 0.3615 - output_aspect_loss: 0.2202 - output_polarity_loss: 0.3394 - output_aspect_accuracy: 0.4476 - output_polarity_accuracy: 0.8807 - val_loss: 0.5302 - val_output_aspect_loss: 0.3003 - val_output_polarity_loss: 0.5002 - val_output_aspect_accuracy: 0.3859 - val_output_polarity_accuracy: 0.8244\n",
      "Epoch 8/60\n",
      "100/100 [==============================] - 245s 2s/step - loss: 0.3304 - output_aspect_loss: 0.2010 - output_polarity_loss: 0.3103 - output_aspect_accuracy: 0.4399 - output_polarity_accuracy: 0.8899 - val_loss: 0.4900 - val_output_aspect_loss: 0.2814 - val_output_polarity_loss: 0.4618 - val_output_aspect_accuracy: 0.3933 - val_output_polarity_accuracy: 0.8444\n",
      "Epoch 9/60\n",
      "100/100 [==============================] - 240s 2s/step - loss: 0.2971 - output_aspect_loss: 0.1833 - output_polarity_loss: 0.2788 - output_aspect_accuracy: 0.4328 - output_polarity_accuracy: 0.9010 - val_loss: 0.4795 - val_output_aspect_loss: 0.2800 - val_output_polarity_loss: 0.4515 - val_output_aspect_accuracy: 0.4098 - val_output_polarity_accuracy: 0.8471\n",
      "Epoch 10/60\n",
      "100/100 [==============================] - 239s 2s/step - loss: 0.2725 - output_aspect_loss: 0.1678 - output_polarity_loss: 0.2558 - output_aspect_accuracy: 0.4314 - output_polarity_accuracy: 0.9102 - val_loss: 0.5106 - val_output_aspect_loss: 0.2822 - val_output_polarity_loss: 0.4824 - val_output_aspect_accuracy: 0.4145 - val_output_polarity_accuracy: 0.8402\n",
      "Epoch 11/60\n",
      "100/100 [==============================] - 244s 2s/step - loss: 0.2475 - output_aspect_loss: 0.1544 - output_polarity_loss: 0.2321 - output_aspect_accuracy: 0.4179 - output_polarity_accuracy: 0.9183 - val_loss: 0.4846 - val_output_aspect_loss: 0.2886 - val_output_polarity_loss: 0.4557 - val_output_aspect_accuracy: 0.4087 - val_output_polarity_accuracy: 0.8551\n"
     ]
    }
   ],
   "source": [
    "history = model.fit(X_train,[y_aspect_train,y_pol_train],\n",
    "                   batch_size=64,\n",
    "                    epochs=60,\n",
    "                    validation_data=[X_test, [y_aspect_test,y_pol_test]],callbacks=[callback])"
   ]
  },
  {
   "cell_type": "code",
   "execution_count": 46,
   "id": "cfda57c6",
   "metadata": {},
   "outputs": [
    {
     "data": {
      "image/png": "[encoded data removed]",
      "text/plain": [
       "<Figure size 432x288 with 1 Axes>"
      ]
     },
     "metadata": {
      "needs_background": "light"
     },
     "output_type": "display_data"
    }
   ],
   "source": [
    "import matplotlib.pyplot as plt\n",
    "plt.plot(history.history['loss'], label='loss')\n",
    "plt.plot(history.history['val_loss'], label='val_loss')\n",
    "plt.xlabel('epoch')\n",
    "plt.legend()\n",
    "plt.show() "
   ]
  },
  {
   "cell_type": "code",
   "execution_count": 40,
   "id": "e18345c4",
   "metadata": {},
   "outputs": [
    {
     "data": {
      "text/plain": [
       "[1.437605619430542,\n",
       " 1.110342025756836,\n",
       " 0.6400061845779419,\n",
       " 0.5364944934844971,\n",
       " 0.5704748630523682,\n",
       " 0.463141530752182,\n",
       " 0.5302160978317261,\n",
       " 0.48996931314468384,\n",
       " 0.4795320928096771,\n",
       " 0.5105892419815063,\n",
       " 0.48460355401039124]"
      ]
     },
     "execution_count": 40,
     "metadata": {},
     "output_type": "execute_result"
    }
   ],
   "source": [
    "history.history['val_loss']"
   ]
  },
  {
   "cell_type": "code",
   "execution_count": 89,
   "id": "8ead00bd",
   "metadata": {},
   "outputs": [
    {
     "data": {
      "text/plain": [
       "0.3002087473869324"
      ]
     },
     "execution_count": 89,
     "metadata": {},
     "output_type": "execute_result"
    }
   ],
   "source": [
    "min(history.history['loss'])\n"
   ]
  },
  {
   "cell_type": "code",
   "execution_count": 90,
   "id": "27835872",
   "metadata": {},
   "outputs": [
    {
     "data": {
      "text/plain": [
       "0.4488087296485901"
      ]
     },
     "execution_count": 90,
     "metadata": {},
     "output_type": "execute_result"
    }
   ],
   "source": [
    "min(history.history['val_loss'])"
   ]
  },
  {
   "cell_type": "code",
   "execution_count": 91,
   "id": "d6ea3056",
   "metadata": {
    "scrolled": true
   },
   "outputs": [
    {
     "data": {
      "text/plain": [
       "0.5213903784751892"
      ]
     },
     "execution_count": 91,
     "metadata": {},
     "output_type": "execute_result"
    }
   ],
   "source": [
    "max(history.history['output_aspect_accuracy'])\n",
    "\n"
   ]
  },
  {
   "cell_type": "code",
   "execution_count": 92,
   "id": "97d636a3",
   "metadata": {},
   "outputs": [
    {
     "data": {
      "text/plain": [
       "0.5275128483772278"
      ]
     },
     "execution_count": 92,
     "metadata": {},
     "output_type": "execute_result"
    }
   ],
   "source": [
    "max(history.history['val_output_aspect_accuracy'])\n"
   ]
  },
  {
   "cell_type": "code",
   "execution_count": 93,
   "id": "3f2ccdbe",
   "metadata": {},
   "outputs": [
    {
     "data": {
      "text/plain": [
       "0.8981860280036926"
      ]
     },
     "execution_count": 93,
     "metadata": {},
     "output_type": "execute_result"
    }
   ],
   "source": [
    "max(history.history['output_polarity_accuracy'])"
   ]
  },
  {
   "cell_type": "code",
   "execution_count": 94,
   "id": "396f2dfe",
   "metadata": {},
   "outputs": [
    {
     "data": {
      "text/plain": [
       "0.8608461618423462"
      ]
     },
     "execution_count": 94,
     "metadata": {},
     "output_type": "execute_result"
    }
   ],
   "source": [
    "max(history.history['val_output_polarity_accuracy'])"
   ]
  },
  {
   "cell_type": "code",
   "execution_count": 42,
   "id": "1f2bdffd",
   "metadata": {},
   "outputs": [
    {
     "data": {
      "image/png": "[encoded data removed]",
      "text/plain": [
       "<Figure size 432x288 with 1 Axes>"
      ]
     },
     "metadata": {
      "needs_background": "light"
     },
     "output_type": "display_data"
    }
   ],
   "source": [
    "import matplotlib.pyplot as plt\n",
    "plt.plot(history.history['output_aspect_accuracy'], label='acc_aspec')\n",
    "plt.plot(history.history['val_output_aspect_accuracy'], label='val_acc_aspect')\n",
    "plt.xlabel('epoch')\n",
    "plt.legend()\n",
    "plt.show() \n"
   ]
  },
  {
   "cell_type": "code",
   "execution_count": 43,
   "id": "5113df97",
   "metadata": {},
   "outputs": [
    {
     "data": {
      "image/png": "[encoded data removed]",
      "text/plain": [
       "<Figure size 432x288 with 1 Axes>"
      ]
     },
     "metadata": {
      "needs_background": "light"
     },
     "output_type": "display_data"
    }
   ],
   "source": [
    "import matplotlib.pyplot as plt\n",
    "plt.plot(history.history['output_polarity_accuracy'], label='acc_polarity')\n",
    "plt.plot(history.history['val_output_polarity_accuracy'], label='val_acc_polarity')\n",
    "plt.xlabel('epoch')\n",
    "plt.legend()\n",
    "plt.show() "
   ]
  },
  {
   "cell_type": "code",
   "execution_count": 32,
   "id": "b2ae886b",
   "metadata": {},
   "outputs": [],
   "source": [
    "model.save(\"best_model_attetion_absa.hdf5\")"
   ]
  },
  {
   "cell_type": "code",
   "execution_count": 34,
   "id": "4a9b9868",
   "metadata": {},
   "outputs": [
    {
     "name": "stdout",
     "output_type": "stream",
     "text": [
      "WARNING:tensorflow:Error in loading the saved optimizer state. As a result, your model is starting with a freshly initialized optimizer.\n"
     ]
    }
   ],
   "source": [
    "model = load_model('best_model_attetion_absa.hdf5',custom_objects={'attention':attention})"
   ]
  },
  {
   "cell_type": "code",
   "execution_count": 61,
   "id": "9ddcb719",
   "metadata": {},
   "outputs": [],
   "source": [
    "def predict_aspect_pol(text):\n",
    "    \n",
    "    token_sample = word_processing(text)\n",
    "    X_predict=[wordtoix[word] for word in token_sample if word in wordtoix]\n",
    "    X_predict=sequence.pad_sequences([X_predict],max_length)\n",
    "    predict= model.predict(X_predict)\n",
    "    \n",
    "    i = 0\n",
    "    label_aspect_pred_lst= []\n",
    "    for pred in predict[0][0]:\n",
    "        if pred > 0.0002 :\n",
    "    #         print(label_aspect_rev[i])\n",
    "            label_aspect_pred_lst.append(label_aspect_rev[i])\n",
    "        i = i+1\n",
    "        \n",
    "    j =0 \n",
    "    label_pol_aspect_dict ={}\n",
    "    for pre_pol in predict[1][0]:\n",
    "        if pre_pol.argmax() != 0:\n",
    "    #         print(label_aspect_rev[i],pre_pol.argmax())\n",
    "            label_pol_aspect_dict[label_aspect_rev[j]]= label_polarity_rev[pre_pol.argmax()]\n",
    "\n",
    "        j = j +1\n",
    "    label_aspect_final = {}\n",
    "    for label in label_pol_aspect_dict.keys():\n",
    "        if label in label_aspect_pred_lst:\n",
    "#             print(label,label_pol_aspect_dict[label])\n",
    "             label_aspect_final[label] = label_pol_aspect_dict[label]\n",
    "    return label_aspect_final"
   ]
  },
  {
   "cell_type": "code",
   "execution_count": 66,
   "id": "0311ccf5",
   "metadata": {},
   "outputs": [],
   "source": [
    "text = 'Không gian quán rộng chỗ để xe cũng rộng rãi Bún đậm đà ngon rau sống tươi nhiều'"
   ]
  },
  {
   "cell_type": "code",
   "execution_count": 67,
   "id": "9e9d1380",
   "metadata": {},
   "outputs": [
    {
     "data": {
      "text/plain": [
       "{'FOOD#QUALITY': 'POS', 'AMBIENCE#GENERAL': 'POS'}"
      ]
     },
     "execution_count": 67,
     "metadata": {},
     "output_type": "execute_result"
    }
   ],
   "source": [
    "predict_aspect_pol(text)"
   ]
  },
  {
   "cell_type": "code",
   "execution_count": 68,
   "id": "6a6fda24",
   "metadata": {},
   "outputs": [],
   "source": [
    "text2 = 'Nằm ngay chợ sặt nhỏ hố nai Chuyên bán bún riêu bánh đa canh bún mình thấy dở ẹc luôn Nước lèo như nước lã vậy Ăn k ăn nhập vào nhau Bún thịt nướng cũng dở lắm Nói chung ko bao giờ trở lại'"
   ]
  },
  {
   "cell_type": "code",
   "execution_count": 69,
   "id": "79036fd0",
   "metadata": {},
   "outputs": [
    {
     "data": {
      "text/plain": [
       "{'FOOD#QUALITY': 'NEG', 'LOCATION#GENERAL': 'NEG'}"
      ]
     },
     "execution_count": 69,
     "metadata": {},
     "output_type": "execute_result"
    }
   ],
   "source": [
    "predict_aspect_pol(text2)"
   ]
  },
  {
   "cell_type": "code",
   "execution_count": 70,
   "id": "203c5c74",
   "metadata": {},
   "outputs": [],
   "source": [
    "text3 = 'Như tiêu đề mình đã nói phải gọi quán mì quảng này như thế mới đúng Vì không có gì là vị của mì quảng thật sự Góp ý với chủ quán thì ko tiếp thu còn quay lại nói mình đã làm theo liều lượng này nọ nấu ăn ko theo liều lượng thì đem đổ hết ah Và ko bao giờ ăn lại quán này 1 lần nào nữa'"
   ]
  },
  {
   "cell_type": "code",
   "execution_count": 71,
   "id": "8da1d87d",
   "metadata": {},
   "outputs": [
    {
     "data": {
      "text/plain": [
       "{'FOOD#QUALITY': 'NEU'}"
      ]
     },
     "execution_count": 71,
     "metadata": {},
     "output_type": "execute_result"
    }
   ],
   "source": [
    "predict_aspect_pol(text3)"
   ]
  },
  {
   "cell_type": "markdown",
   "id": "4691903c",
   "metadata": {},
   "source": [
    "# Transformer model"
   ]
  },
  {
   "cell_type": "code",
   "execution_count": 53,
   "id": "9db9f8ab",
   "metadata": {},
   "outputs": [],
   "source": [
    "from tensorflow.keras import layers\n",
    "\n",
    "# soruce:(https://keras.io/examples/nlp/text_classification_with_transformer/)\n",
    "from keras.initializers import Constant\n",
    "\n",
    "class TransformerBlock(layers.Layer):\n",
    "    def __init__(self, embed_dim, num_heads, ff_dim, rate=0.1,**kwargs):\n",
    "        super(TransformerBlock, self).__init__()\n",
    "        self.att = layers.MultiHeadAttention(num_heads=num_heads, key_dim=embed_dim)\n",
    "        self.ffn = keras.Sequential(\n",
    "            [layers.Dense(ff_dim, activation='tanh'), layers.Dense(embed_dim),]\n",
    "        )\n",
    "        self.layernorm1 = layers.LayerNormalization(epsilon=1e-6)\n",
    "        self.layernorm2 = layers.LayerNormalization(epsilon=1e-6)\n",
    "        self.dropout1 = layers.Dropout(rate)\n",
    "        self.dropout2 = layers.Dropout(rate)\n",
    "        \n",
    "        self.embed_dim = embed_dim\n",
    "        self.num_heads = num_heads\n",
    "        self.ff_dim = ff_dim\n",
    "        self.rate = rate\n",
    "\n",
    "    def call(self, inputs, training):\n",
    "        attn_output = self.att(inputs, inputs)\n",
    "        attn_output = self.dropout1(attn_output, training=training)\n",
    "        out1 = self.layernorm1(inputs + attn_output)\n",
    "        ffn_output = self.ffn(out1)\n",
    "        ffn_output = self.dropout2(ffn_output, training=training)\n",
    "        return self.layernorm2(out1 + ffn_output)\n",
    "    \n",
    "    def get_config(self):\n",
    "        config = super().get_config()\n",
    "        config.update({\n",
    "            \"embed_dim\": self.embed_dim,\n",
    "            \"num_heads\": self.num_heads,\n",
    "            \"ff_dim\": self.ff_dim,\n",
    "            \"rate\": self.rate,\n",
    "        })\n",
    "        return config"
   ]
  },
  {
   "cell_type": "code",
   "execution_count": 54,
   "id": "4f4b404e",
   "metadata": {},
   "outputs": [],
   "source": [
    "class TokenAndPositionEmbedding(layers.Layer):\n",
    "    def __init__(self, maxlen, vocab_size, embed_dim,**kwargs):\n",
    "        super(TokenAndPositionEmbedding, self).__init__()\n",
    "        self.token_emb = layers.Embedding(input_dim=vocab_size, output_dim=embed_dim)\n",
    "        self.pos_emb = layers.Embedding(input_dim=maxlen, output_dim=embed_dim)\n",
    "        \n",
    "        self.maxlen = maxlen\n",
    "        self.vocab_size = vocab_size\n",
    "        self.embed_dim = embed_dim\n",
    "  \n",
    "\n",
    "    def call(self, x):\n",
    "        maxlen = tf.shape(x)[-1]\n",
    "        positions = tf.range(start=0, limit=maxlen, delta=1)\n",
    "        positions = self.pos_emb(positions)\n",
    "        x = self.token_emb(x)\n",
    "        return x + positions\n",
    "    \n",
    "    def get_config(self):\n",
    "        config = super().get_config()\n",
    "        config.update({\n",
    "            \"maxlen\": self.maxlen,\n",
    "            \"vocab_size\": self.vocab_size,\n",
    "            \"embed_dim\": self.embed_dim,\n",
    "        })\n",
    "        return config\n",
    "\n",
    "    \n",
    "   "
   ]
  },
  {
   "cell_type": "code",
   "execution_count": 55,
   "id": "ce1d3ee1",
   "metadata": {},
   "outputs": [],
   "source": [
    "embed_dim = 32  # Embedding size for each token\n",
    "num_heads = 2  # Number of attention heads\n",
    "ff_dim = 32  # \n",
    "vocab_size = len(wordtoix)"
   ]
  },
  {
   "cell_type": "code",
   "execution_count": 56,
   "id": "3892888e",
   "metadata": {},
   "outputs": [],
   "source": [
    "inputs = layers.Input(shape=(max_length,))\n",
    "embedding_layer = TokenAndPositionEmbedding(max_length, vocab_size, embed_dim)\n",
    "x = embedding_layer(inputs)\n",
    "transformer_block = TransformerBlock(embed_dim, num_heads, ff_dim)\n",
    "x = transformer_block(x)\n",
    "x = layers.GlobalAveragePooling1D()(x)\n",
    "x = layers.Dropout(0.5)(x)\n",
    "x = layers.Dense(20, activation=\"relu\")(x)\n",
    "x = layers.Dropout(0.5)(x)\n",
    "aspect_output = layers.Dense(12, activation=\"sigmoid\",name ='output_aspect')(x)\n",
    "\n",
    "output_pol1 = Dense(4,activation = 'softmax',)(x)\n",
    "output_pol1 = Reshape((-1,4))(output_pol1)\n",
    "\n",
    "output_pol2 = Dense(4,activation = 'softmax')(x)\n",
    "output_pol2 = Reshape((-1,4))(output_pol2)\n",
    "\n",
    "output_pol3 = Dense(4,activation = 'softmax')(x)\n",
    "output_pol3 = Reshape((-1,4))(output_pol3)\n",
    "\n",
    "output_pol4 = Dense(4,activation = 'softmax')(x)\n",
    "output_pol4 = Reshape((-1,4))(output_pol4)\n",
    "\n",
    "output_pol5 = Dense(4,activation = 'softmax')(x)\n",
    "output_pol5 = Reshape((-1,4))(output_pol5)\n",
    "\n",
    "output_pol6 = Dense(4,activation = 'softmax')(x)\n",
    "output_pol6 = Reshape((-1,4))(output_pol6)\n",
    "\n",
    "output_pol7 = Dense(4,activation = 'softmax')(x)\n",
    "output_pol7 = Reshape((-1,4))(output_pol7)\n",
    "\n",
    "output_pol8 = Dense(4,activation = 'softmax')(x)\n",
    "output_pol8 = Reshape((-1,4))(output_pol8)\n",
    "\n",
    "output_pol9 = Dense(4,activation = 'softmax')(x)\n",
    "output_pol9 = Reshape((-1,4))(output_pol9)\n",
    "\n",
    "output_pol10 = Dense(4,activation = 'softmax')(x)\n",
    "output_pol10 = Reshape((-1,4))(output_pol10)\n",
    "\n",
    "output_pol11 = Dense(4,activation = 'softmax')(x)\n",
    "output_pol11 = Reshape((-1,4))(output_pol11)\n",
    "\n",
    "output_pol12 = Dense(4,activation = 'softmax')(x)\n",
    "output_pol12 = Reshape((-1,4))(output_pol12)\n",
    "\n",
    "output_pol = concatenate([output_pol1,output_pol2,output_pol3,output_pol4,output_pol5,\n",
    "                    output_pol6,output_pol7,output_pol8,output_pol9,output_pol10,output_pol11,output_pol12],name='output_polarity',axis = 1)\n",
    "\n",
    "model2 = Model(inputs = inputs ,outputs =[aspect_output,output_pol])\n"
   ]
  },
  {
   "cell_type": "code",
   "execution_count": 57,
   "id": "d713eb98",
   "metadata": {},
   "outputs": [
    {
     "name": "stdout",
     "output_type": "stream",
     "text": [
      "Model: \"model_3\"\n",
      "__________________________________________________________________________________________________\n",
      " Layer (type)                   Output Shape         Param #     Connected to                     \n",
      "==================================================================================================\n",
      " input_7 (InputLayer)           [(None, 382)]        0           []                               \n",
      "                                                                                                  \n",
      " token_and_position_embedding_1  (None, 382, 32)     141504      ['input_7[0][0]']                \n",
      "  (TokenAndPositionEmbedding)                                                                     \n",
      "                                                                                                  \n",
      " transformer_block_1 (Transform  (None, 382, 32)     10656       ['token_and_position_embedding_1[\n",
      " erBlock)                                                        0][0]']                          \n",
      "                                                                                                  \n",
      " global_average_pooling1d_3 (Gl  (None, 32)          0           ['transformer_block_1[0][0]']    \n",
      " obalAveragePooling1D)                                                                            \n",
      "                                                                                                  \n",
      " dropout_14 (Dropout)           (None, 32)           0           ['global_average_pooling1d_3[0][0\n",
      "                                                                 ]']                              \n",
      "                                                                                                  \n",
      " dense_53 (Dense)               (None, 20)           660         ['dropout_14[0][0]']             \n",
      "                                                                                                  \n",
      " dropout_15 (Dropout)           (None, 20)           0           ['dense_53[0][0]']               \n",
      "                                                                                                  \n",
      " dense_54 (Dense)               (None, 4)            84          ['dropout_15[0][0]']             \n",
      "                                                                                                  \n",
      " dense_55 (Dense)               (None, 4)            84          ['dropout_15[0][0]']             \n",
      "                                                                                                  \n",
      " dense_56 (Dense)               (None, 4)            84          ['dropout_15[0][0]']             \n",
      "                                                                                                  \n",
      " dense_57 (Dense)               (None, 4)            84          ['dropout_15[0][0]']             \n",
      "                                                                                                  \n",
      " dense_58 (Dense)               (None, 4)            84          ['dropout_15[0][0]']             \n",
      "                                                                                                  \n",
      " dense_59 (Dense)               (None, 4)            84          ['dropout_15[0][0]']             \n",
      "                                                                                                  \n",
      " dense_60 (Dense)               (None, 4)            84          ['dropout_15[0][0]']             \n",
      "                                                                                                  \n",
      " dense_61 (Dense)               (None, 4)            84          ['dropout_15[0][0]']             \n",
      "                                                                                                  \n",
      " dense_62 (Dense)               (None, 4)            84          ['dropout_15[0][0]']             \n",
      "                                                                                                  \n",
      " dense_63 (Dense)               (None, 4)            84          ['dropout_15[0][0]']             \n",
      "                                                                                                  \n",
      " dense_64 (Dense)               (None, 4)            84          ['dropout_15[0][0]']             \n",
      "                                                                                                  \n",
      " dense_65 (Dense)               (None, 4)            84          ['dropout_15[0][0]']             \n",
      "                                                                                                  \n",
      " reshape_48 (Reshape)           (None, 1, 4)         0           ['dense_54[0][0]']               \n",
      "                                                                                                  \n",
      " reshape_49 (Reshape)           (None, 1, 4)         0           ['dense_55[0][0]']               \n",
      "                                                                                                  \n",
      " reshape_50 (Reshape)           (None, 1, 4)         0           ['dense_56[0][0]']               \n",
      "                                                                                                  \n",
      " reshape_51 (Reshape)           (None, 1, 4)         0           ['dense_57[0][0]']               \n",
      "                                                                                                  \n",
      " reshape_52 (Reshape)           (None, 1, 4)         0           ['dense_58[0][0]']               \n",
      "                                                                                                  \n",
      " reshape_53 (Reshape)           (None, 1, 4)         0           ['dense_59[0][0]']               \n",
      "                                                                                                  \n",
      " reshape_54 (Reshape)           (None, 1, 4)         0           ['dense_60[0][0]']               \n",
      "                                                                                                  \n",
      " reshape_55 (Reshape)           (None, 1, 4)         0           ['dense_61[0][0]']               \n",
      "                                                                                                  \n",
      " reshape_56 (Reshape)           (None, 1, 4)         0           ['dense_62[0][0]']               \n",
      "                                                                                                  \n",
      " reshape_57 (Reshape)           (None, 1, 4)         0           ['dense_63[0][0]']               \n",
      "                                                                                                  \n",
      " reshape_58 (Reshape)           (None, 1, 4)         0           ['dense_64[0][0]']               \n",
      "                                                                                                  \n",
      " reshape_59 (Reshape)           (None, 1, 4)         0           ['dense_65[0][0]']               \n",
      "                                                                                                  \n",
      " output_aspect (Dense)          (None, 12)           252         ['dropout_15[0][0]']             \n",
      "                                                                                                  \n",
      " output_polarity (Concatenate)  (None, 12, 4)        0           ['reshape_48[0][0]',             \n",
      "                                                                  'reshape_49[0][0]',             \n",
      "                                                                  'reshape_50[0][0]',             \n",
      "                                                                  'reshape_51[0][0]',             \n",
      "                                                                  'reshape_52[0][0]',             \n",
      "                                                                  'reshape_53[0][0]',             \n",
      "                                                                  'reshape_54[0][0]',             \n",
      "                                                                  'reshape_55[0][0]',             \n",
      "                                                                  'reshape_56[0][0]',             \n",
      "                                                                  'reshape_57[0][0]',             \n",
      "                                                                  'reshape_58[0][0]',             \n",
      "                                                                  'reshape_59[0][0]']             \n"
     ]
    },
    {
     "name": "stdout",
     "output_type": "stream",
     "text": [
      "                                                                                                  \n",
      "==================================================================================================\n",
      "Total params: 154,080\n",
      "Trainable params: 154,080\n",
      "Non-trainable params: 0\n",
      "__________________________________________________________________________________________________\n"
     ]
    }
   ],
   "source": [
    "model2.summary()"
   ]
  },
  {
   "cell_type": "code",
   "execution_count": 59,
   "id": "ec77ffd1",
   "metadata": {},
   "outputs": [],
   "source": [
    "loss = {'output_aspect' : \"binary_crossentropy\" , 'output_polarity': 'categorical_crossentropy'}\n",
    "model2.compile(optimizer='adam', loss=loss,loss_weights=[0.1,1],metrics=['accuracy'])"
   ]
  },
  {
   "cell_type": "code",
   "execution_count": 60,
   "id": "129a016c",
   "metadata": {},
   "outputs": [],
   "source": [
    "from sklearn.model_selection import train_test_split\n",
    "X_train,X_test,y_aspect_train,y_aspect_test,y_pol_train,y_pol_test = train_test_split(X,y_aspect,y_pol,test_size= 0.3 ,random_state=42)"
   ]
  },
  {
   "cell_type": "code",
   "execution_count": 61,
   "id": "e47dd772",
   "metadata": {},
   "outputs": [
    {
     "name": "stdout",
     "output_type": "stream",
     "text": [
      "Epoch 1/60\n",
      "199/199 [==============================] - 54s 258ms/step - loss: 1.0677 - output_aspect_loss: 0.6318 - output_polarity_loss: 1.0045 - output_aspect_accuracy: 0.2425 - output_polarity_accuracy: 0.6251 - val_loss: 0.6781 - val_output_aspect_loss: 0.4848 - val_output_polarity_loss: 0.6296 - val_output_aspect_accuracy: 0.5301 - val_output_polarity_accuracy: 0.7938\n",
      "Epoch 2/60\n",
      "199/199 [==============================] - 48s 244ms/step - loss: 0.7760 - output_aspect_loss: 0.4872 - output_polarity_loss: 0.7273 - output_aspect_accuracy: 0.5201 - output_polarity_accuracy: 0.7707 - val_loss: 0.6371 - val_output_aspect_loss: 0.4266 - val_output_polarity_loss: 0.5944 - val_output_aspect_accuracy: 0.5301 - val_output_polarity_accuracy: 0.7945\n",
      "Epoch 3/60\n",
      "199/199 [==============================] - 46s 231ms/step - loss: 0.7043 - output_aspect_loss: 0.4478 - output_polarity_loss: 0.6595 - output_aspect_accuracy: 0.5340 - output_polarity_accuracy: 0.7842 - val_loss: 0.6134 - val_output_aspect_loss: 0.4113 - val_output_polarity_loss: 0.5723 - val_output_aspect_accuracy: 0.5301 - val_output_polarity_accuracy: 0.7966\n",
      "Epoch 4/60\n",
      "199/199 [==============================] - 45s 229ms/step - loss: 0.6613 - output_aspect_loss: 0.4263 - output_polarity_loss: 0.6187 - output_aspect_accuracy: 0.5330 - output_polarity_accuracy: 0.7920 - val_loss: 0.5830 - val_output_aspect_loss: 0.3887 - val_output_polarity_loss: 0.5441 - val_output_aspect_accuracy: 0.5301 - val_output_polarity_accuracy: 0.8054\n",
      "Epoch 5/60\n",
      "199/199 [==============================] - 48s 244ms/step - loss: 0.6296 - output_aspect_loss: 0.4027 - output_polarity_loss: 0.5894 - output_aspect_accuracy: 0.5293 - output_polarity_accuracy: 0.7986 - val_loss: 0.5747 - val_output_aspect_loss: 0.3749 - val_output_polarity_loss: 0.5372 - val_output_aspect_accuracy: 0.5304 - val_output_polarity_accuracy: 0.8062\n",
      "Epoch 6/60\n",
      "199/199 [==============================] - 49s 246ms/step - loss: 0.6069 - output_aspect_loss: 0.3867 - output_polarity_loss: 0.5683 - output_aspect_accuracy: 0.5220 - output_polarity_accuracy: 0.8046 - val_loss: 0.5470 - val_output_aspect_loss: 0.3556 - val_output_polarity_loss: 0.5114 - val_output_aspect_accuracy: 0.5205 - val_output_polarity_accuracy: 0.8212\n",
      "Epoch 7/60\n",
      "199/199 [==============================] - 50s 249ms/step - loss: 0.5911 - output_aspect_loss: 0.3750 - output_polarity_loss: 0.5536 - output_aspect_accuracy: 0.5146 - output_polarity_accuracy: 0.8071 - val_loss: 0.5416 - val_output_aspect_loss: 0.3476 - val_output_polarity_loss: 0.5068 - val_output_aspect_accuracy: 0.5290 - val_output_polarity_accuracy: 0.8221\n",
      "Epoch 8/60\n",
      "199/199 [==============================] - 52s 262ms/step - loss: 0.5760 - output_aspect_loss: 0.3637 - output_polarity_loss: 0.5396 - output_aspect_accuracy: 0.5187 - output_polarity_accuracy: 0.8111 - val_loss: 0.5345 - val_output_aspect_loss: 0.3426 - val_output_polarity_loss: 0.5002 - val_output_aspect_accuracy: 0.5187 - val_output_polarity_accuracy: 0.8248\n",
      "Epoch 9/60\n",
      "199/199 [==============================] - 52s 260ms/step - loss: 0.5673 - output_aspect_loss: 0.3581 - output_polarity_loss: 0.5315 - output_aspect_accuracy: 0.5127 - output_polarity_accuracy: 0.8128 - val_loss: 0.5293 - val_output_aspect_loss: 0.3389 - val_output_polarity_loss: 0.4954 - val_output_aspect_accuracy: 0.5257 - val_output_polarity_accuracy: 0.8255\n",
      "Epoch 10/60\n",
      "199/199 [==============================] - 51s 256ms/step - loss: 0.5584 - output_aspect_loss: 0.3532 - output_polarity_loss: 0.5231 - output_aspect_accuracy: 0.5159 - output_polarity_accuracy: 0.8150 - val_loss: 0.5279 - val_output_aspect_loss: 0.3365 - val_output_polarity_loss: 0.4942 - val_output_aspect_accuracy: 0.5235 - val_output_polarity_accuracy: 0.8257\n",
      "Epoch 11/60\n",
      "199/199 [==============================] - 49s 246ms/step - loss: 0.5501 - output_aspect_loss: 0.3474 - output_polarity_loss: 0.5153 - output_aspect_accuracy: 0.5091 - output_polarity_accuracy: 0.8160 - val_loss: 0.5269 - val_output_aspect_loss: 0.3349 - val_output_polarity_loss: 0.4934 - val_output_aspect_accuracy: 0.5304 - val_output_polarity_accuracy: 0.8256\n",
      "Epoch 12/60\n",
      "199/199 [==============================] - 49s 248ms/step - loss: 0.5423 - output_aspect_loss: 0.3423 - output_polarity_loss: 0.5080 - output_aspect_accuracy: 0.5143 - output_polarity_accuracy: 0.8174 - val_loss: 0.5283 - val_output_aspect_loss: 0.3366 - val_output_polarity_loss: 0.4946 - val_output_aspect_accuracy: 0.5205 - val_output_polarity_accuracy: 0.8257\n",
      "Epoch 13/60\n",
      "199/199 [==============================] - 49s 247ms/step - loss: 0.5357 - output_aspect_loss: 0.3386 - output_polarity_loss: 0.5019 - output_aspect_accuracy: 0.5132 - output_polarity_accuracy: 0.8190 - val_loss: 0.5248 - val_output_aspect_loss: 0.3349 - val_output_polarity_loss: 0.4913 - val_output_aspect_accuracy: 0.5209 - val_output_polarity_accuracy: 0.8271\n",
      "Epoch 14/60\n",
      "199/199 [==============================] - 50s 249ms/step - loss: 0.5297 - output_aspect_loss: 0.3351 - output_polarity_loss: 0.4962 - output_aspect_accuracy: 0.5121 - output_polarity_accuracy: 0.8199 - val_loss: 0.5231 - val_output_aspect_loss: 0.3339 - val_output_polarity_loss: 0.4897 - val_output_aspect_accuracy: 0.5169 - val_output_polarity_accuracy: 0.8255\n",
      "Epoch 15/60\n",
      "199/199 [==============================] - 56s 282ms/step - loss: 0.5262 - output_aspect_loss: 0.3330 - output_polarity_loss: 0.4928 - output_aspect_accuracy: 0.5143 - output_polarity_accuracy: 0.8201 - val_loss: 0.5267 - val_output_aspect_loss: 0.3375 - val_output_polarity_loss: 0.4929 - val_output_aspect_accuracy: 0.5249 - val_output_polarity_accuracy: 0.8267\n",
      "Epoch 16/60\n",
      "199/199 [==============================] - 54s 271ms/step - loss: 0.5223 - output_aspect_loss: 0.3305 - output_polarity_loss: 0.4893 - output_aspect_accuracy: 0.5124 - output_polarity_accuracy: 0.8212 - val_loss: 0.5233 - val_output_aspect_loss: 0.3353 - val_output_polarity_loss: 0.4898 - val_output_aspect_accuracy: 0.5183 - val_output_polarity_accuracy: 0.8298\n",
      "Epoch 17/60\n",
      "199/199 [==============================] - 54s 270ms/step - loss: 0.5166 - output_aspect_loss: 0.3269 - output_polarity_loss: 0.4839 - output_aspect_accuracy: 0.5091 - output_polarity_accuracy: 0.8223 - val_loss: 0.5257 - val_output_aspect_loss: 0.3363 - val_output_polarity_loss: 0.4921 - val_output_aspect_accuracy: 0.5213 - val_output_polarity_accuracy: 0.8302\n",
      "Epoch 18/60\n",
      "199/199 [==============================] - 52s 261ms/step - loss: 0.5127 - output_aspect_loss: 0.3258 - output_polarity_loss: 0.4801 - output_aspect_accuracy: 0.5087 - output_polarity_accuracy: 0.8242 - val_loss: 0.5233 - val_output_aspect_loss: 0.3354 - val_output_polarity_loss: 0.4898 - val_output_aspect_accuracy: 0.5213 - val_output_polarity_accuracy: 0.8300\n",
      "Epoch 19/60\n",
      "199/199 [==============================] - 53s 269ms/step - loss: 0.5066 - output_aspect_loss: 0.3215 - output_polarity_loss: 0.4745 - output_aspect_accuracy: 0.5069 - output_polarity_accuracy: 0.8245 - val_loss: 0.5221 - val_output_aspect_loss: 0.3346 - val_output_polarity_loss: 0.4887 - val_output_aspect_accuracy: 0.5143 - val_output_polarity_accuracy: 0.8324\n",
      "Epoch 20/60\n",
      "199/199 [==============================] - 53s 268ms/step - loss: 0.5016 - output_aspect_loss: 0.3185 - output_polarity_loss: 0.4697 - output_aspect_accuracy: 0.5030 - output_polarity_accuracy: 0.8265 - val_loss: 0.5237 - val_output_aspect_loss: 0.3362 - val_output_polarity_loss: 0.4901 - val_output_aspect_accuracy: 0.5158 - val_output_polarity_accuracy: 0.8332\n",
      "Epoch 21/60\n",
      "199/199 [==============================] - 55s 278ms/step - loss: 0.4992 - output_aspect_loss: 0.3173 - output_polarity_loss: 0.4675 - output_aspect_accuracy: 0.5031 - output_polarity_accuracy: 0.8275 - val_loss: 0.5277 - val_output_aspect_loss: 0.3389 - val_output_polarity_loss: 0.4938 - val_output_aspect_accuracy: 0.5224 - val_output_polarity_accuracy: 0.8330\n",
      "Epoch 22/60\n",
      "199/199 [==============================] - 52s 261ms/step - loss: 0.4959 - output_aspect_loss: 0.3155 - output_polarity_loss: 0.4644 - output_aspect_accuracy: 0.4976 - output_polarity_accuracy: 0.8276 - val_loss: 0.5249 - val_output_aspect_loss: 0.3368 - val_output_polarity_loss: 0.4912 - val_output_aspect_accuracy: 0.5066 - val_output_polarity_accuracy: 0.8319\n"
     ]
    },
    {
     "name": "stdout",
     "output_type": "stream",
     "text": [
      "Epoch 23/60\n",
      "199/199 [==============================] - 53s 266ms/step - loss: 0.4886 - output_aspect_loss: 0.3109 - output_polarity_loss: 0.4576 - output_aspect_accuracy: 0.5011 - output_polarity_accuracy: 0.8309 - val_loss: 0.5298 - val_output_aspect_loss: 0.3401 - val_output_polarity_loss: 0.4958 - val_output_aspect_accuracy: 0.4982 - val_output_polarity_accuracy: 0.8317\n",
      "Epoch 24/60\n",
      "199/199 [==============================] - 55s 274ms/step - loss: 0.4878 - output_aspect_loss: 0.3108 - output_polarity_loss: 0.4568 - output_aspect_accuracy: 0.4956 - output_polarity_accuracy: 0.8299 - val_loss: 0.5296 - val_output_aspect_loss: 0.3408 - val_output_polarity_loss: 0.4955 - val_output_aspect_accuracy: 0.5022 - val_output_polarity_accuracy: 0.8338\n"
     ]
    }
   ],
   "source": [
    "history = model2.fit(X_train,[y_aspect_train,y_pol_train],\n",
    "                   batch_size=32,\n",
    "                    epochs=60,\n",
    "                    validation_data=[X_test, [y_aspect_test,y_pol_test]],callbacks=[callback])"
   ]
  },
  {
   "cell_type": "code",
   "execution_count": 63,
   "id": "ebbdbdc8",
   "metadata": {},
   "outputs": [
    {
     "data": {
      "image/png": "[encoded data removed]",
      "text/plain": [
       "<Figure size 432x288 with 1 Axes>"
      ]
     },
     "metadata": {
      "needs_background": "light"
     },
     "output_type": "display_data"
    }
   ],
   "source": [
    "import matplotlib.pyplot as plt\n",
    "plt.plot(history.history['loss'], label='loss')\n",
    "plt.plot(history.history['val_loss'], label='val_loss')\n",
    "plt.xlabel('epoch')\n",
    "plt.legend()\n",
    "plt.show() "
   ]
  },
  {
   "cell_type": "code",
   "execution_count": 64,
   "id": "b1a40e13",
   "metadata": {},
   "outputs": [
    {
     "data": {
      "image/png": "[encoded data removed]",
      "text/plain": [
       "<Figure size 432x288 with 1 Axes>"
      ]
     },
     "metadata": {
      "needs_background": "light"
     },
     "output_type": "display_data"
    }
   ],
   "source": [
    "import matplotlib.pyplot as plt\n",
    "plt.plot(history.history['output_aspect_accuracy'], label='acc_aspec')\n",
    "plt.plot(history.history['val_output_aspect_accuracy'], label='val_acc_aspect')\n",
    "plt.xlabel('epoch')\n",
    "plt.legend()\n",
    "plt.show() \n"
   ]
  },
  {
   "cell_type": "code",
   "execution_count": 65,
   "id": "dd4e59e6",
   "metadata": {},
   "outputs": [
    {
     "data": {
      "image/png": "[encoded data removed]",
      "text/plain": [
       "<Figure size 432x288 with 1 Axes>"
      ]
     },
     "metadata": {
      "needs_background": "light"
     },
     "output_type": "display_data"
    }
   ],
   "source": [
    "import matplotlib.pyplot as plt\n",
    "plt.plot(history.history['output_polarity_accuracy'], label='acc_polarity')\n",
    "plt.plot(history.history['val_output_polarity_accuracy'], label='val_acc_polarity')\n",
    "plt.xlabel('epoch')\n",
    "plt.legend()\n",
    "plt.show() "
   ]
  },
  {
   "cell_type": "code",
   "execution_count": 212,
   "id": "7cd4dc4d",
   "metadata": {},
   "outputs": [],
   "source": [
    "model2.save('best_model_absa2.hdf5')"
   ]
  },
  {
   "cell_type": "code",
   "execution_count": 201,
   "id": "963de974",
   "metadata": {},
   "outputs": [],
   "source": [
    "from tensorflow.keras.models import load_model"
   ]
  },
  {
   "cell_type": "code",
   "execution_count": 218,
   "id": "21622701",
   "metadata": {},
   "outputs": [],
   "source": [
    "model2 =load_model('best_model_absa2.hdf5',custom_objects={'TokenAndPositionEmbedding':TokenAndPositionEmbedding,'TransformerBlock':TransformerBlock})"
   ]
  },
  {
   "cell_type": "code",
   "execution_count": null,
   "id": "5d54e409",
   "metadata": {},
   "outputs": [],
   "source": []
  },
  {
   "cell_type": "code",
   "execution_count": 227,
   "id": "09202f87",
   "metadata": {},
   "outputs": [],
   "source": [
    "def predict_aspect_pol(text):\n",
    "    \n",
    "    token_sample = word_processing(text)\n",
    "    X_predict=[wordtoix[word] for word in token_sample if word in wordtoix]\n",
    "    X_predict=sequence.pad_sequences([X_predict],max_length)\n",
    "    predict= model2.predict(X_predict)\n",
    "    \n",
    "    i = 0\n",
    "    label_aspect_pred_lst= []\n",
    "    for pred in predict[0][0]:\n",
    "        if pred >  :\n",
    "    #         print(label_aspect_rev[i])\n",
    "            label_aspect_pred_lst.append(label_aspect_rev[i])\n",
    "        i = i+1\n",
    "        \n",
    "    j =0 \n",
    "    label_pol_aspect_dict ={}\n",
    "    for pre_pol in predict[1][0]:\n",
    "        if pre_pol.argmax() != 0:\n",
    "    #         print(label_aspect_rev[i],pre_pol.argmax())\n",
    "            label_pol_aspect_dict[label_aspect_rev[j]]= label_polarity_rev[pre_pol.argmax()]\n",
    "\n",
    "        j = j +1\n",
    "    label_aspect_final = {}\n",
    "    for label in label_pol_aspect_dict.keys():\n",
    "        if label in label_aspect_pred_lst:\n",
    "#             print(label,label_pol_aspect_dict[label])\n",
    "             label_aspect_final[label] = label_pol_aspect_dict[label]\n",
    "    return label_aspect_final"
   ]
  },
  {
   "cell_type": "code",
   "execution_count": 231,
   "id": "2ae94f3c",
   "metadata": {},
   "outputs": [
    {
     "data": {
      "text/plain": [
       "{}"
      ]
     },
     "execution_count": 231,
     "metadata": {},
     "output_type": "execute_result"
    }
   ],
   "source": [
    "predict_aspect_pol('Lần đầu mình mua ở đây thì rất hài lòng Nhưng càng mua thì càng thất vọng nhân viên làm rất cẩu thả múc đồ ăn cho có ko Rất thích nhưng mong quán sẽ sửa')"
   ]
  },
  {
   "cell_type": "code",
   "execution_count": 219,
   "id": "0d2266f6",
   "metadata": {},
   "outputs": [],
   "source": [
    "token_sample = word_processing(text)\n",
    "X_predict=[wordtoix[word] for word in token_sample if word in wordtoix]\n",
    "X_predict=sequence.pad_sequences([X_predict],max_length)\n",
    "predict= model2.predict(X_predict)"
   ]
  },
  {
   "cell_type": "code",
   "execution_count": 247,
   "id": "7f6ff332",
   "metadata": {},
   "outputs": [
    {
     "data": {
      "text/plain": [
       "3"
      ]
     },
     "execution_count": 247,
     "metadata": {},
     "output_type": "execute_result"
    }
   ],
   "source": [
    "predict[1][0][3].argmax()"
   ]
  },
  {
   "cell_type": "code",
   "execution_count": 246,
   "id": "b8f9d034",
   "metadata": {},
   "outputs": [
    {
     "data": {
      "text/plain": [
       "3"
      ]
     },
     "execution_count": 246,
     "metadata": {},
     "output_type": "execute_result"
    }
   ],
   "source": [
    "predict[0].argmax()"
   ]
  },
  {
   "cell_type": "code",
   "execution_count": 236,
   "id": "24a657be",
   "metadata": {},
   "outputs": [],
   "source": [
    "i = 0\n",
    "label_aspect_pred_lst = []\n",
    "for pred in predict[0][0]:\n",
    "        if pred >  0.002:\n",
    "    #         print(label_aspect_rev[i])\n",
    "            label_aspect_pred_lst.append(label_aspect_rev[i])\n",
    "        i = i+1"
   ]
  },
  {
   "cell_type": "code",
   "execution_count": 237,
   "id": "34e25b62",
   "metadata": {},
   "outputs": [
    {
     "data": {
      "text/plain": [
       "['RESTAURANT#GENERAL',\n",
       " 'RESTAURANT#PRICE',\n",
       " 'RESTAURANT#MISCELLANEOUS',\n",
       " 'FOOD#QUALITY',\n",
       " 'FOOD#PRICE',\n",
       " 'FOOD#STYLE&OPTIONS',\n",
       " 'AMBIENCE#GENERAL',\n",
       " 'LOCATION#GENERAL']"
      ]
     },
     "execution_count": 237,
     "metadata": {},
     "output_type": "execute_result"
    }
   ],
   "source": [
    "label_aspect_pred_lst"
   ]
  }
 ],
 "metadata": {
  "kernelspec": {
   "display_name": "Python 3 (ipykernel)",
   "language": "python",
   "name": "python3"
  },
  "language_info": {
   "codemirror_mode": {
    "name": "ipython",
    "version": 3
   },
   "file_extension": ".py",
   "mimetype": "text/x-python",
   "name": "python",
   "nbconvert_exporter": "python",
   "pygments_lexer": "ipython3",
   "version": "3.9.7"
  }
 },
 "nbformat": 4,
 "nbformat_minor": 5
}
